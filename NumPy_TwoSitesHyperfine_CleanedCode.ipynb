{
 "cells": [
  {
   "cell_type": "code",
   "execution_count": 1,
   "id": "4e6985b8",
   "metadata": {},
   "outputs": [],
   "source": [
    "import qutip as qt\n",
    "import numpy as np\n",
    "import os\n",
    "\n",
    "import matplotlib.pyplot as plt\n",
    "from tqdm import tqdm\n",
    "\n",
    "from multiprocessing import Pool, cpu_count\n",
    "from functools import partial\n",
    "import inspect\n",
    "\n",
    "import helperNumPy as h"
   ]
  },
  {
   "cell_type": "code",
   "execution_count": 2,
   "id": "2d2a2a31",
   "metadata": {},
   "outputs": [],
   "source": [
    "import time\n",
    "start_time = time.time()"
   ]
  },
  {
   "cell_type": "code",
   "execution_count": 3,
   "id": "58686d14",
   "metadata": {},
   "outputs": [],
   "source": [
    "(Ix, Iy, Iz) = qt.spin_J_set(1/2)\n",
    "(Ip, Im) = (qt.destroy(2), qt.create(2))\n",
    "\n",
    "#identity matrix\n",
    "Id = qt.qeye(2)\n",
    "\n",
    "#eigenvalues&vectors\n",
    "vals = np.round(Iz.eigenstates()[0], 1)\n",
    "vects = Iz.eigenstates()[1]"
   ]
  },
  {
   "cell_type": "code",
   "execution_count": 4,
   "id": "002356a9",
   "metadata": {},
   "outputs": [],
   "source": [
    "#This cell uses the multiprocessing package to utilize multiple CPUs\n",
    "#It might be a mess to convert to a PULSEE file\n",
    "\n",
    "def Eval(params, id):\n",
    "    #helper function for  diagonalEvolve, returns only the \n",
    "    #density matrices\n",
    "    import numpy as np\n",
    "    import helperNumPy as h \n",
    "    rho0 = np.array(params[0])\n",
    "    H =  np.array(params[1])\n",
    "    \n",
    "    U1, D1, D1exp = h.diagonalize(-1j*H*id)\n",
    "    U2, D2, D2exp = h.diagonalize(1j*H*id)\n",
    "    \n",
    "    rho = U1 @ D1exp @ np.linalg.inv(U1) @ rho0 @ U2 @ D2exp @ np.linalg.inv(U2)\n",
    "    return rho, id\n",
    "\n",
    "def diagonalEvolve(func, iterable, *params):\n",
    "    with open(f'./tmp_func.py', 'w') as file:\n",
    "        file.write(inspect.getsource(func).replace(func.__name__, \"task\"))\n",
    "\n",
    "    from tmp_func import task\n",
    "    \n",
    "    if __name__ == '__main__':\n",
    "        func = partial(task, params)\n",
    "        pool = Pool() # Create a multiprocessing Pool\n",
    "        res = pool.map(func, iterable)\n",
    "        pool.close()\n",
    "        return res\n",
    "    else:\n",
    "        raise \"Not in Jupyter Notebook\"\n",
    "        \n",
    "def EvalFID(params, id):\n",
    "    #Gvies the form of the FID\n",
    "    import numpy as np\n",
    "    import helperNumPy as h \n",
    "    \n",
    "    #rho0 is the initial state\n",
    "    rho0 = np.array(params[0])\n",
    "    #H is the Hamiltonian\n",
    "    H =  np.array(params[1])\n",
    "    \n",
    "    Iplus =  np.array(params[2])\n",
    "    #T2 forces an artificial T2 decay\n",
    "    T2 = params[3]\n",
    "    \n",
    "    U1, D1, D1exp = h.diagonalize(-1j*H*id)\n",
    "    U2, D2, D2exp = h.diagonalize(1j*H*id)\n",
    "    \n",
    "    rho =  U1 @ D1exp @ np.linalg.inv(U1) @ rho0 @ U2 @ D2exp @ np.linalg.inv(U2) \n",
    "    \n",
    "    Ip_expect = np.trace(rho @ Iplus)*np.exp(-id/T2)\n",
    "    \n",
    "    return Ip_expect, id"
   ]
  },
  {
   "cell_type": "code",
   "execution_count": 5,
   "id": "cece60a6",
   "metadata": {},
   "outputs": [],
   "source": [
    "def h_tensor_coupling(ten_matrix):\n",
    "    # Initialize empty operator of appropriate dimension as base case for \n",
    "    # for loop. \n",
    "    h = qt.tensor(Id, Id) * 0 \n",
    "    i_1 = (Ix, Iy, Iz)\n",
    "    i_2 = (Ix, Iy, Iz)\n",
    "    \n",
    "    for m in range(len(i_1)):\n",
    "        for n in range(len(i_2)):\n",
    "            h += ten_matrix[m, n] * (qt.tensor(i_1[m], i_2[n]))\n",
    "    return h\n",
    "\n",
    "def CNOT_th(state):\n",
    "    CNOT_gate = qt.qip.operations.cnot(2, 0, 1)\n",
    "\n",
    "    state = np.array(CNOT_gate) @ np.array(state) @ np.array(CNOT_gate.dag())\n",
    "    return state\n",
    "\n",
    "def hadamard_theory(state):\n",
    "    hadamard = qt.qip.operations.hadamard_transform(1)\n",
    "    hadamard = qt.tensor(qt.qeye(2), hadamard)\n",
    "    state = np.array(hadamard) @ np.array(state) @ np.array(hadamard.dag())\n",
    "    return state \n",
    "    \n",
    "def hadamard2_inst(initial_state):\n",
    "    \n",
    "    st = h.apply_pulse(initial_state, np.pi/4, qt.tensor(qt.qeye(2), Iy))\n",
    "    \n",
    "    st = h.apply_pulse(st, np.pi, qt.tensor(qt.qeye(2), Ix))\n",
    "    \n",
    "    st = h.apply_pulse(st, np.pi/4, qt.tensor(qt.qeye(2), -Iy)) \n",
    "\n",
    "    \n",
    "    return st\n",
    "\n",
    "def CNOT_inst(H0, j, initial_state):\n",
    "    \n",
    "    st = h.apply_pulse(initial_state, -np.pi/2, qt.tensor(Id, Iy))\n",
    "    \n",
    "    t_2 = 1/(2*j)\n",
    "    \n",
    "    st = diagonalEvolve(Eval, np.linspace(0, t_2, 3), st, H0)[-1][0]\n",
    "    \n",
    "    st = h.apply_pulse(st, -np.pi/2, qt.tensor(Id, Ix))\n",
    "    \n",
    "    st = h.apply_pulse(st, np.pi/2, qt.tensor(Id, Iz))\n",
    "\n",
    "    st = h.apply_pulse(st, -np.pi/2, qt.tensor(Iz, Id)) \n",
    "\n",
    "    \n",
    "    return st\n",
    "\n",
    "def initialCoherent(theta=np.deg2rad(90), phi=np.deg2rad(90)):\n",
    "    import qutip as qt\n",
    "    from scipy.special import binom\n",
    "    n = 1/2\n",
    "    \"\"\"\"\n",
    "    Prepares an initial coherent state based on the two angles \\theta \n",
    "    and \\phi with respect to the Iz operator in the Bloch sphere. Maximal \n",
    "    squeezing for the coherent state that is the eigenstate of +/- Ix\n",
    "    operator.\n",
    "    \n",
    "    Inputs:\n",
    "    - theta: angle in rad\n",
    "    - phi: angle in rad\n",
    "    \n",
    "    Returns:\n",
    "    - ksi: the density matrix of the squeezed state (qutip object)\n",
    "    \n",
    "    \"\"\"\n",
    "    state = vects[0] - vects[0]\n",
    "    for i in range(len(vals)):\n",
    "        state = state + np.sqrt(binom(2*n, n+vals[i])) *\\\n",
    "        (np.cos(theta/2))**(n-vals[i])*(np.sin(theta/2))**(n+vals[i]) *\\\n",
    "        np.exp(-1j*(n+vals[i])*phi)*vects[i]\n",
    "    \n",
    "    ksi = state *state.dag()\n",
    "    psi = vects[0]*vects[0].dag()\n",
    "#     psi = Iz\n",
    "    A =-(0.5*(1/np.pi))*epsilon*B2pi*(GAMMA_2PIS[0]*qt.tensor(psi, qt.qeye(2)) + GAMMA_2PIS[1]*qt.tensor(qt.qeye(2), ksi)) + (1-epsilon)*qt.tensor(qt.qeye(2), qt.qeye(2))\n",
    "    return A/A.tr()\n",
    "\n",
    "def initialThermal():\n",
    "    psi = vects[0]*vects[0].dag()\n",
    "#     psi = Iz\n",
    "    A =-epsilon*B2pi*(GAMMA_2PIS[0]*qt.tensor(psi, qt.qeye(2)) + GAMMA_2PIS[1]*qt.tensor(qt.qeye(2), Iz)) + (1-epsilon)*qt.tensor(qt.qeye(2), qt.qeye(2))\n",
    "    return A/A.tr()"
   ]
  },
  {
   "cell_type": "code",
   "execution_count": 6,
   "id": "deeb755d",
   "metadata": {},
   "outputs": [],
   "source": [
    "FOLDER = \"G:\\\\Other computers\\\\My Laptop (1)\\\\GDrive\\\\Brown\\\\PULSEE\\\\\\TestPulsesSymPyNumPy\\\\\\ExampleToSend\\\\\""
   ]
  },
  {
   "cell_type": "code",
   "execution_count": 7,
   "id": "2d8cd5a3",
   "metadata": {},
   "outputs": [],
   "source": [
    "SIM_NAME = FOLDER +\"CNOT_coh\""
   ]
  },
  {
   "cell_type": "code",
   "execution_count": 8,
   "id": "914adbec",
   "metadata": {},
   "outputs": [],
   "source": [
    "CORRELATED = False\n",
    "THERMAL = True\n",
    "COHERENT = False\n",
    "\n",
    "# set up the parameters\n",
    "B_0 = 10.\n",
    "B2pi = 2*np.pi*B_0\n",
    "GAMMA_2PIS = [2000*10, 10] \n",
    "\n",
    "\n",
    "ACQUISITION_TIME = 1200\n",
    "N_POINTS = 240\n",
    "\n",
    "T2 = 100\n",
    "\n",
    "#thermal polarization factor \n",
    "epsilon = 1e-6\n",
    "# epsilon = 10e-2\n",
    "\n",
    "try:\n",
    "    os.mkdir(SIM_NAME)\n",
    "except:\n",
    "    pass"
   ]
  },
  {
   "cell_type": "code",
   "execution_count": 9,
   "id": "d46be58a",
   "metadata": {},
   "outputs": [
    {
     "data": {
      "text/plain": [
       "array([[3.14159265, 0.        , 0.31415927],\n",
       "       [0.        , 3.14159265, 0.        ],\n",
       "       [0.31415927, 0.        , 3.14159265]])"
      ]
     },
     "execution_count": 9,
     "metadata": {},
     "output_type": "execute_result"
    }
   ],
   "source": [
    "H0 = -B2pi*GAMMA_2PIS[0]*qt.tensor(Iz, Id) -B2pi*GAMMA_2PIS[1]*qt.tensor(Id, Iz)\n",
    "h_tensor_inter = 2*np.pi*np.array([[\n",
    "                0.5,\n",
    "                0.,\n",
    "                0.05],\n",
    "                [\n",
    "                0.,\n",
    "                0.5,\n",
    "                0.],\n",
    "            [\n",
    "                0.05,\n",
    "                0.,\n",
    "                0.5]])\n",
    "H_hyp = h_tensor_coupling(h_tensor_inter)\n",
    "\n",
    "H0 += H_hyp \n",
    "h_tensor_inter"
   ]
  },
  {
   "cell_type": "code",
   "execution_count": 10,
   "id": "c682300e",
   "metadata": {},
   "outputs": [],
   "source": [
    "before_gates = None    \n",
    "if COHERENT and not CORRELATED:\n",
    "    psi0 = initialCoherent()\n",
    "\n",
    "elif CORRELATED and THERMAL: \n",
    "    before_gates = initialThermal()    \n",
    "    psi0 = CNOT_inst(H0, h_tensor_inter[2,2], before_gates)\n",
    "    psi0 = hadamard2_inst(before_gates)\n",
    "#     psi01 = CNOT_th(psi0)\n",
    "    \n",
    "elif THERMAL and not CORRELATED: \n",
    "    psi0 = initialThermal()\n",
    "    \n",
    "elif CORRELATED and COHERENT: \n",
    "    before_gates = initialCoherent()\n",
    "#     psi0 = hadamard2_inst(before_gates)\n",
    "    psi0 = CNOT_inst(H0, h_tensor_inter[2,2], before_gates)\n",
    "#     psi0 = CNOT_th(before_gates)"
   ]
  },
  {
   "cell_type": "code",
   "execution_count": 11,
   "id": "19fc0824",
   "metadata": {},
   "outputs": [],
   "source": [
    "#Evolve state for some time\n",
    "st0 = diagonalEvolve(Eval, np.linspace(0, 8, 2), psi0, H0)\n",
    "st0 = [i[0] for i in st0]"
   ]
  },
  {
   "cell_type": "code",
   "execution_count": 12,
   "id": "a101edd6",
   "metadata": {},
   "outputs": [],
   "source": [
    "#Apply a pi/2 pulse\n",
    "st2 = h.apply_pulse(st0[-1], np.pi/2,  (qt.tensor(Id, Ix)))"
   ]
  },
  {
   "cell_type": "code",
   "execution_count": 13,
   "id": "1b4b2214",
   "metadata": {},
   "outputs": [],
   "source": [
    "#Obtain the FID\n",
    "times = np.linspace(start=0, stop=ACQUISITION_TIME, num=int(ACQUISITION_TIME*N_POINTS))\n",
    "Iplus = qt.tensor(Ip, Id) + qt.tensor(Id, Ip) \n",
    "\n",
    "Iplus = np.array(Iplus)\n",
    "\n",
    "Ip_rot_expect = diagonalEvolve(EvalFID, times, st2, H0, Iplus, T2)\n",
    "fid = [i[0] for i in Ip_rot_expect] "
   ]
  },
  {
   "cell_type": "code",
   "execution_count": 14,
   "id": "81b50fc8",
   "metadata": {},
   "outputs": [
    {
     "data": {
      "image/png": "[encoded data removed]",
      "text/plain": [
       "<Figure size 432x288 with 1 Axes>"
      ]
     },
     "metadata": {
      "needs_background": "light"
     },
     "output_type": "display_data"
    }
   ],
   "source": [
    "plt.plot(times, np.real(fid))\n",
    "\n",
    "plt.xlabel('time (us)')\n",
    "\n",
    "plt.ylabel('fid')\n",
    "plt.savefig(SIM_NAME +'\\\\FIDSignal')\n",
    "plt.show()"
   ]
  },
  {
   "cell_type": "code",
   "execution_count": 15,
   "id": "fa6ed0bc",
   "metadata": {},
   "outputs": [],
   "source": [
    "f, ft = h.FT_Stephen(fid, times)"
   ]
  },
  {
   "cell_type": "code",
   "execution_count": 16,
   "id": "77fc7bd3",
   "metadata": {},
   "outputs": [
    {
     "data": {
      "image/png": "[encoded data removed]",
      "text/plain": [
       "<Figure size 432x288 with 1 Axes>"
      ]
     },
     "metadata": {
      "needs_background": "light"
     },
     "output_type": "display_data"
    }
   ],
   "source": [
    "plt.plot(f, np.abs(ft)/np.max(np.abs(ft)))\n",
    "\n",
    "plt.xlabel('freq (MHz)')\n",
    "plt.ylabel('Signal')\n",
    "plt.xlim([-100.6, -99.4])\n",
    "# plt.legend()\n",
    "plt.savefig(SIM_NAME +'\\\\FTSignal')\n",
    "plt.show()"
   ]
  },
  {
   "cell_type": "code",
   "execution_count": 17,
   "id": "25604310",
   "metadata": {},
   "outputs": [
    {
     "name": "stdout",
     "output_type": "stream",
     "text": [
      "--- 12.346596002578735 seconds ---\n"
     ]
    }
   ],
   "source": [
    "print(\"--- %s seconds ---\" % (time.time() - start_time))"
   ]
  },
  {
   "cell_type": "code",
   "execution_count": null,
   "id": "f0410ed1",
   "metadata": {},
   "outputs": [],
   "source": []
  }
 ],
 "metadata": {
  "kernelspec": {
   "display_name": "Python 3 (ipykernel)",
   "language": "python",
   "name": "python3"
  },
  "language_info": {
   "codemirror_mode": {
    "name": "ipython",
    "version": 3
   },
   "file_extension": ".py",
   "mimetype": "text/x-python",
   "name": "python",
   "nbconvert_exporter": "python",
   "pygments_lexer": "ipython3",
   "version": "3.9.12"
  }
 },
 "nbformat": 4,
 "nbformat_minor": 5
}
