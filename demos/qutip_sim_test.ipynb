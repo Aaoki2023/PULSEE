{
 "cells": [
  {
   "cell_type": "markdown",
   "metadata": {},
   "source": [
    "### Imports, Simulation Setup"
   ]
  },
  {
   "cell_type": "code",
   "execution_count": 1,
   "metadata": {},
   "outputs": [],
   "source": [
    "import numpy as np \n",
    "import pandas as pd\n",
    "from pulsee import simulation as sim, quantum_computing as qc, operators as op \n",
    "from pulsee.many_body import tensor_product"
   ]
  },
  {
   "cell_type": "code",
   "execution_count": 2,
   "metadata": {},
   "outputs": [],
   "source": [
    "Iz = np.array([[1/2, 0], [0,-1/2]])\n",
    "Iz = op.Operator(Iz)"
   ]
  },
  {
   "cell_type": "code",
   "execution_count": 3,
   "metadata": {},
   "outputs": [],
   "source": [
    "SIM_NAME = \"/test/11uncorrelated_mixed_no_interactions\""
   ]
  },
  {
   "cell_type": "markdown",
   "metadata": {},
   "source": [
    "### Quantum System Setup\n",
    "Spin-$\\frac{1}{2}$ system with $\\gamma/2\\pi = 4.00$ MHz/T (see Candoli thesis §4.1) and $B_0 = 10$ T:"
   ]
  },
  {
   "cell_type": "code",
   "execution_count": 4,
   "metadata": {},
   "outputs": [],
   "source": [
    "CORRELATED = True\n",
    "MIXED = True\n",
    "QUANTUM_NUMBERS = [1.5, 0.5] \n",
    "GAMMA_2PIS = [4.00, 0] \n",
    "B_0 = 10\n",
    "# one control qubit (cnotnot) or two control qubits (toffoli)\n",
    "CNOT_GATE = qc.toffoli \n",
    "\n",
    "zeem_par = {'field magnitude' : B_0,\n",
    "                'theta_z' : 0,\n",
    "                'phi_z' : 0}"
   ]
  },
  {
   "cell_type": "markdown",
   "metadata": {},
   "source": [
    "### Pulse\n",
    "Set up single mode pulse of form \n",
    "$$\\mathbf{B}_1(t) = 2 B_1 \\cos(2\\pi \\nu + \\delta)\\cdot \\hat{\\mathbf{n}}(\\theta, \\phi)$$\n",
    "where $\\theta$ and $\\phi$ are the polar and azimuthal angles respectively. $B_1$ in T, $\\nu$ in MHz, $\\delta$, $\\phi$, and $\\theta$ in radians. TODO: $\\nu$ depends on $e^2 q Q $ and $\\eta$? What is $\\eta$? Why?\n",
    "\n",
    "For simplest case apply $\\pi/2$ pulse with $B_1 = B_0 / 100 $, $ \\nu = (\\gamma/2\\pi) \\cdot B_0 $, $\\delta = \\phi =0$, $\\theta=\\pi/2$."
   ]
  },
  {
   "cell_type": "code",
   "execution_count": 5,
   "metadata": {},
   "outputs": [],
   "source": [
    "B_1 = B_0 / 100\n",
    "FREQ = GAMMA_2PIS[0] * B_0\n",
    "PHASE = 0\n",
    "POLAR_B = np.pi / 2 \n",
    "AZIMUTHAL_B = 0 \n",
    "PULSE_TIME = 1 / (4 * FREQ)\n",
    "mode = pd.DataFrame([(FREQ, 2 * B_1, PHASE, POLAR_B, AZIMUTHAL_B)],\n",
    "\t\t\t\t\tcolumns=['frequency', 'amplitude', 'phase', 'theta_p', 'phi_p'])"
   ]
  },
  {
   "cell_type": "markdown",
   "metadata": {},
   "source": [
    "### Experiment Settings"
   ]
  },
  {
   "cell_type": "code",
   "execution_count": 6,
   "metadata": {},
   "outputs": [],
   "source": [
    "ACQUISITION_TIME = 1000 # in microseconds\n",
    "T2 = 100"
   ]
  },
  {
   "cell_type": "markdown",
   "metadata": {},
   "source": [
    "### Hamiltonians\n",
    "Here we add the desired Hamiltonian interaction terms. Add these to the following dictionary `args` with key as it appears in `nuclear_system_setup` function. The value should be the parameters of the associated Hamiltonian as it appears in `nuclear_system_setup`."
   ]
  },
  {
   "cell_type": "code",
   "execution_count": 7,
   "metadata": {},
   "outputs": [],
   "source": [
    "h_dict = {\n",
    "\t'h_tensor_inter': np.array([[2, 0, 0], [0, 1, 0], [0, 0, 1]])\n",
    "}"
   ]
  },
  {
   "cell_type": "markdown",
   "metadata": {},
   "source": [
    "### Density Matrix Setup \n",
    "If `CORRELATED` start with qubit $\\ket{111}$ so that in the case of \n",
    "Toffoli (CCNOT) the second control qubit leads to negation of last qubit. \n",
    "Before applying CCNOT or CNOTNOT apply Hadamard to first qubit to create \n",
    "superposition. "
   ]
  },
  {
   "cell_type": "code",
   "execution_count": 18,
   "metadata": {},
   "outputs": [
    {
     "name": "stdout",
     "output_type": "stream",
     "text": [
      "(8, 8)\n",
      "(8, 8)\n",
      "H_unperturbed:\n",
      "[[-59.25 +0.j   0.   +0.j   0.   +0.j   0.433+0.j   0.   +0.j   0.   +0.j\n",
      "    0.   +0.j   0.   +0.j]\n",
      " [  0.   +0.j -60.75 +0.j   1.299+0.j   0.   +0.j   0.   +0.j   0.   +0.j\n",
      "    0.   +0.j   0.   +0.j]\n",
      " [  0.   +0.j   1.299+0.j -19.75 +0.j   0.   +0.j   0.   +0.j   0.5  +0.j\n",
      "    0.   +0.j   0.   +0.j]\n",
      " [  0.433+0.j   0.   +0.j   0.   +0.j -20.25 +0.j   1.5  +0.j   0.   +0.j\n",
      "    0.   +0.j   0.   +0.j]\n",
      " [  0.   +0.j   0.   +0.j   0.   +0.j   1.5  +0.j  19.75 +0.j   0.   +0.j\n",
      "    0.   +0.j   0.433+0.j]\n",
      " [  0.   +0.j   0.   +0.j   0.5  +0.j   0.   +0.j   0.   +0.j  20.25 +0.j\n",
      "    1.299+0.j   0.   +0.j]\n",
      " [  0.   +0.j   0.   +0.j   0.   +0.j   0.   +0.j   0.   +0.j   1.299+0.j\n",
      "   59.25 +0.j   0.   +0.j]\n",
      " [  0.   +0.j   0.   +0.j   0.   +0.j   0.   +0.j   0.433+0.j   0.   +0.j\n",
      "    0.   +0.j  60.75 +0.j]]\n",
      "Initial density matrix:\n",
      "[[ 0.162+0.j  0.   +0.j  0.   +0.j -0.002+0.j  0.162+0.j  0.   +0.j\n",
      "   0.   +0.j -0.002+0.j]\n",
      " [ 0.   +0.j  0.338+0.j -0.011+0.j  0.   +0.j  0.   +0.j  0.338+0.j\n",
      "  -0.011+0.j  0.   +0.j]\n",
      " [ 0.   +0.j -0.011+0.j  0.   +0.j  0.   +0.j  0.   +0.j -0.011+0.j\n",
      "   0.   +0.j  0.   +0.j]\n",
      " [-0.002+0.j  0.   +0.j  0.   +0.j  0.   +0.j -0.002+0.j  0.   +0.j\n",
      "   0.   +0.j  0.   +0.j]\n",
      " [ 0.162+0.j  0.   +0.j  0.   +0.j -0.002+0.j  0.162+0.j  0.   +0.j\n",
      "   0.   +0.j -0.002+0.j]\n",
      " [ 0.   +0.j  0.338+0.j -0.011+0.j  0.   +0.j  0.   +0.j  0.338+0.j\n",
      "  -0.011+0.j  0.   +0.j]\n",
      " [ 0.   +0.j -0.011+0.j  0.   +0.j  0.   +0.j  0.   +0.j -0.011+0.j\n",
      "   0.   +0.j  0.   +0.j]\n",
      " [-0.002+0.j  0.   +0.j  0.   +0.j  0.   +0.j -0.002+0.j  0.   +0.j\n",
      "   0.   +0.j  0.   +0.j]]\n"
     ]
    }
   ],
   "source": [
    "args = h_dict.copy()\n",
    "spin_par = []\n",
    "for qn, gam in zip(QUANTUM_NUMBERS, GAMMA_2PIS):\n",
    "    spin_par.append({'quantum number': qn, 'gamma/2pi': gam})\n",
    "\n",
    "args['spin_par'] = spin_par \n",
    "args['zeem_par'] = zeem_par\n",
    "spin, h_unperturbed, _ = sim.nuclear_system_setup(**args)\n",
    "\n",
    "qs = qc.CompositeQubitSpace(3)\n",
    "\n",
    "# Construct the tensor product of the Hadamard gate and 2 identity operators\n",
    "had_id = qc.gate_tensor_product(qc.hadamard, qc.gate_tensor_pow(qc.identity, 2))\n",
    "\n",
    "corr_operator = CNOT_GATE * had_id\n",
    "\n",
    "\n",
    "if CORRELATED and MIXED: \n",
    "    state = op.canonical_density_matrix(op.Operator(np.sum(h_unperturbed, axis=0)), 1e-4).matrix\n",
    "    print(state.shape)\n",
    "    print(had_id.matrix.shape)\n",
    "    corr = had_id.matrix @ state @ qc.adjoint(had_id.matrix)\n",
    "\n",
    "    initial_dm_matrix = corr\n",
    "    \n",
    "elif MIXED: \n",
    "    initial_dm_matrix = op.canonical_density_matrix(op.Operator(np.sum(h_unperturbed), axis=0), 1e-4).matrix\n",
    "    \n",
    "elif CORRELATED: \n",
    "    # Use state ket |111⟩\n",
    "    q = qs.basis_ket_from_indices([0, 0, 0])\n",
    "\n",
    "    # Create entanglement \n",
    "    corr_state = had_id(q)\n",
    "    initial_dm = corr_state.density_matrix\n",
    "    initial_dm_matrix = initial_dm.matrix\n",
    "\n",
    "initial_dm = op.Operator(initial_dm_matrix)\n",
    "\n",
    "print('H_unperturbed:')\n",
    "print(np.round(np.sum(h_unperturbed, axis=0), 3))\n",
    "print('Initial density matrix:')\n",
    "print(np.round(initial_dm.matrix, 3))"
   ]
  },
  {
   "cell_type": "markdown",
   "metadata": {},
   "source": [
    "### Simulation"
   ]
  },
  {
   "cell_type": "code",
   "execution_count": 9,
   "metadata": {},
   "outputs": [
    {
     "ename": "KeyboardInterrupt",
     "evalue": "",
     "output_type": "error",
     "traceback": [
      "\u001b[0;31m---------------------------------------------------------------------------\u001b[0m",
      "\u001b[0;31mKeyboardInterrupt\u001b[0m                         Traceback (most recent call last)",
      "\u001b[0;32m<ipython-input-9-1b5a12100bd3>\u001b[0m in \u001b[0;36m<module>\u001b[0;34m\u001b[0m\n\u001b[1;32m      5\u001b[0m \t\t\t\t\t\tacquisition_time=ACQUISITION_TIME, T2=T2)\n\u001b[1;32m      6\u001b[0m \u001b[0;34m\u001b[0m\u001b[0m\n\u001b[0;32m----> 7\u001b[0;31m \u001b[0mf\u001b[0m\u001b[0;34m,\u001b[0m \u001b[0mft\u001b[0m \u001b[0;34m=\u001b[0m \u001b[0msim\u001b[0m\u001b[0;34m.\u001b[0m\u001b[0mfourier_transform_signal\u001b[0m\u001b[0;34m(\u001b[0m\u001b[0mt\u001b[0m\u001b[0;34m,\u001b[0m \u001b[0mfid\u001b[0m\u001b[0;34m,\u001b[0m \u001b[0;34m-\u001b[0m\u001b[0;36m1\u001b[0m\u001b[0;34m,\u001b[0m \u001b[0;36m1\u001b[0m\u001b[0;34m)\u001b[0m\u001b[0;34m\u001b[0m\u001b[0;34m\u001b[0m\u001b[0m\n\u001b[0m",
      "\u001b[0;32m~/projects/PULSEE/src/pulsee/simulation.py\u001b[0m in \u001b[0;36mfourier_transform_signal\u001b[0;34m(times, signal, frequency_start, frequency_stop, opposite_frequency)\u001b[0m\n\u001b[1;32m    950\u001b[0m             \u001b[0mintegral\u001b[0m \u001b[0;34m=\u001b[0m \u001b[0mnp\u001b[0m\u001b[0;34m.\u001b[0m\u001b[0mzeros\u001b[0m\u001b[0;34m(\u001b[0m\u001b[0msign_options\u001b[0m\u001b[0;34m,\u001b[0m \u001b[0mdtype\u001b[0m\u001b[0;34m=\u001b[0m\u001b[0mcomplex\u001b[0m\u001b[0;34m)\u001b[0m\u001b[0;34m\u001b[0m\u001b[0;34m\u001b[0m\u001b[0m\n\u001b[1;32m    951\u001b[0m             \u001b[0;32mfor\u001b[0m \u001b[0mt\u001b[0m \u001b[0;32min\u001b[0m \u001b[0mrange\u001b[0m\u001b[0;34m(\u001b[0m\u001b[0mlen\u001b[0m\u001b[0;34m(\u001b[0m\u001b[0mtimes\u001b[0m\u001b[0;34m)\u001b[0m\u001b[0;34m)\u001b[0m\u001b[0;34m:\u001b[0m\u001b[0;34m\u001b[0m\u001b[0;34m\u001b[0m\u001b[0m\n\u001b[0;32m--> 952\u001b[0;31m                 \u001b[0mintegral\u001b[0m\u001b[0;34m[\u001b[0m\u001b[0ms\u001b[0m\u001b[0;34m]\u001b[0m \u001b[0;34m=\u001b[0m \u001b[0mintegral\u001b[0m\u001b[0;34m[\u001b[0m\u001b[0ms\u001b[0m\u001b[0;34m]\u001b[0m \u001b[0;34m+\u001b[0m \u001b[0mnp\u001b[0m\u001b[0;34m.\u001b[0m\u001b[0mexp\u001b[0m\u001b[0;34m(\u001b[0m\u001b[0;34m-\u001b[0m\u001b[0;36m1j\u001b[0m\u001b[0;34m*\u001b[0m\u001b[0;36m2\u001b[0m\u001b[0;34m*\u001b[0m\u001b[0mmath\u001b[0m\u001b[0;34m.\u001b[0m\u001b[0mpi\u001b[0m\u001b[0;34m*\u001b[0m\u001b[0;34m(\u001b[0m\u001b[0;36m1\u001b[0m\u001b[0;34m-\u001b[0m\u001b[0;36m2\u001b[0m\u001b[0;34m*\u001b[0m\u001b[0ms\u001b[0m\u001b[0;34m)\u001b[0m\u001b[0;34m*\u001b[0m\u001b[0mnu\u001b[0m\u001b[0;34m*\u001b[0m\u001b[0mtimes\u001b[0m\u001b[0;34m[\u001b[0m\u001b[0mt\u001b[0m\u001b[0;34m]\u001b[0m\u001b[0;34m)\u001b[0m\u001b[0;34m*\u001b[0m\u001b[0msignal\u001b[0m\u001b[0;34m[\u001b[0m\u001b[0mt\u001b[0m\u001b[0;34m]\u001b[0m\u001b[0;34m*\u001b[0m\u001b[0mdt\u001b[0m\u001b[0;34m\u001b[0m\u001b[0;34m\u001b[0m\u001b[0m\n\u001b[0m\u001b[1;32m    953\u001b[0m             \u001b[0mfourier\u001b[0m\u001b[0;34m[\u001b[0m\u001b[0ms\u001b[0m\u001b[0;34m]\u001b[0m\u001b[0;34m.\u001b[0m\u001b[0mappend\u001b[0m\u001b[0;34m(\u001b[0m\u001b[0mintegral\u001b[0m\u001b[0;34m[\u001b[0m\u001b[0ms\u001b[0m\u001b[0;34m]\u001b[0m\u001b[0;34m)\u001b[0m\u001b[0;34m\u001b[0m\u001b[0;34m\u001b[0m\u001b[0m\n\u001b[1;32m    954\u001b[0m \u001b[0;34m\u001b[0m\u001b[0m\n",
      "\u001b[0;31mKeyboardInterrupt\u001b[0m: "
     ]
    }
   ],
   "source": [
    "evolved_dm = sim.evolve(spin, h_unperturbed, initial_dm, \n",
    "\t\t\t\t\t\tmode=mode, pulse_time=PULSE_TIME)\n",
    "\n",
    "t, fid = sim.FID_signal(spin, h_unperturbed, evolved_dm, \n",
    "\t\t\t\t\t\tacquisition_time=ACQUISITION_TIME, T2=T2)\n",
    "\t\t\t\t\t\t\n",
    "f, ft = sim.fourier_transform_signal(t, fid, -1, 1)"
   ]
  },
  {
   "cell_type": "markdown",
   "metadata": {},
   "source": [
    "Write simulation parameters and save plots to a directory. "
   ]
  },
  {
   "cell_type": "markdown",
   "metadata": {},
   "source": []
  }
 ],
 "metadata": {
  "interpreter": {
   "hash": "79e0169e565975bbcdaec67a233905cbefcf116333179363cec8f8cb3f6b1553"
  },
  "kernelspec": {
   "display_name": "Python 3",
   "language": "python",
   "name": "python3"
  },
  "language_info": {
   "codemirror_mode": {
    "name": "ipython",
    "version": 3
   },
   "file_extension": ".py",
   "mimetype": "text/x-python",
   "name": "python",
   "nbconvert_exporter": "python",
   "pygments_lexer": "ipython3",
   "version": "3.8.12"
  }
 },
 "nbformat": 4,
 "nbformat_minor": 2
}
