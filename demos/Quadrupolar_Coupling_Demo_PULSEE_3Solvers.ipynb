{
 "cells": [
  {
   "cell_type": "markdown",
   "metadata": {},
   "source": [
    "# Imports"
   ]
  },
  {
   "cell_type": "code",
   "execution_count": 1,
   "metadata": {},
   "outputs": [],
   "source": [
    "import numpy as np\n",
    "import pandas as pd\n",
    "from pulsee.operators import * \n",
    "from pulsee.simulation import *\n",
    "import qutip as qt\n",
    "import matplotlib.pyplot as plt"
   ]
  },
  {
   "cell_type": "markdown",
   "metadata": {},
   "source": [
    "# Parameters"
   ]
  },
  {
   "cell_type": "code",
   "execution_count": 2,
   "metadata": {},
   "outputs": [],
   "source": [
    "qn = 3/2\n",
    "gr = 1.\n",
    "b0 = 1.\n",
    "e2qQ = 0.5\n",
    "\n",
    "spin_par = {'quantum number' : qn,\n",
    "\t\t\t'gamma/2pi' : gr}\n",
    "\n",
    "zeem_par = {'field magnitude' : b0,\n",
    "\t\t\t'theta_z' : 0,\n",
    "\t\t\t'phi_z' : 0}"
   ]
  },
  {
   "cell_type": "code",
   "execution_count": 3,
   "metadata": {},
   "outputs": [],
   "source": [
    "etas = np.linspace(0, 1, 2)\n",
    "# etas = [0]"
   ]
  },
  {
   "cell_type": "markdown",
   "metadata": {},
   "source": [
    "# Simulation\n",
    "Define simulation code which we will run with different solvers:"
   ]
  },
  {
   "cell_type": "code",
   "execution_count": 4,
   "metadata": {},
   "outputs": [],
   "source": [
    "def simulate(solver):\n",
    "\n",
    "    # Fourier transforms for each eta\n",
    "    fts = []\n",
    "\n",
    "    for eta in etas:\n",
    "        quad_par = {'coupling constant' : e2qQ,\n",
    "                    'asymmetry parameter' : eta,\n",
    "                    'alpha_q' : 0.,\n",
    "                    'beta_q' : 0.,\n",
    "                    'gamma_q' : 0.}\n",
    "\n",
    "        b1 = 1e-1*b0\n",
    "        \n",
    "        mode = pd.DataFrame([(1, b1, 0., math.pi/2, 0)], \n",
    "                            columns=['frequency', 'amplitude', 'phase', 'theta_p', 'phi_p'])\n",
    "\n",
    "        spin, h_unperturbed, dm_initial = nuclear_system_setup(spin_par, quad_par=quad_par, \n",
    "                                            zeem_par=zeem_par, initial_state='canonical', temperature=1e-3)\n",
    "        \n",
    "        ix, iy, iz = qt.spin_J_set(3 / 2)\n",
    "#         dm_initial = iz\n",
    "        print(np.round(dm_initial.full(), 3))\n",
    "        opts = Options(atol=1e-10, rtol=1e-10, rhs_reuse=False, nsteps=16000)\n",
    "        dm_evolved = evolve(spin, h_unperturbed, dm_initial, solver=solver, \\\n",
    "                            mode=mode, pulse_time = 1 / (4 * math.sqrt(3) *  gr * b1), \\\n",
    "                            picture='IP', n_points=10, opts=opts)\n",
    "\n",
    "        print(np.round(dm_evolved.full(), 3))\n",
    "        t, FID = FID_signal(spin, h_unperturbed, dm_evolved, acquisition_time=3200, \\\n",
    "                            T2=800, reference_frequency=0, n_points=5)\n",
    "\n",
    "\n",
    "        f, ft = fourier_transform_signal(FID, t, padding=0)\n",
    "        fts.append([eta, f, ft, t, FID])\n",
    "    return fts"
   ]
  },
  {
   "cell_type": "markdown",
   "metadata": {},
   "source": [
    "# Plots"
   ]
  },
  {
   "cell_type": "markdown",
   "metadata": {},
   "source": [
    "Run simulations with Magnus solve"
   ]
  },
  {
   "cell_type": "code",
   "execution_count": 5,
   "metadata": {},
   "outputs": [
    {
     "name": "stdout",
     "output_type": "stream",
     "text": [
      "[[0.267+0.j 0.   +0.j 0.   +0.j 0.   +0.j]\n",
      " [0.   +0.j 0.257+0.j 0.   +0.j 0.   +0.j]\n",
      " [0.   +0.j 0.   +0.j 0.245+0.j 0.   +0.j]\n",
      " [0.   +0.j 0.   +0.j 0.   +0.j 0.231+0.j]]\n",
      "[[ 0.267+0.j    -0.001+0.j    -0.   -0.j    -0.   +0.j   ]\n",
      " [-0.001-0.j     0.257+0.j     0.001+0.j    -0.   +0.j   ]\n",
      " [-0.   +0.j     0.001-0.j     0.245+0.j    -0.   -0.001j]\n",
      " [-0.   -0.j    -0.   -0.j    -0.   +0.001j  0.231+0.j   ]]\n",
      "[[ 0.267+0.j  0.   +0.j -0.001+0.j  0.   +0.j]\n",
      " [ 0.   +0.j  0.257+0.j  0.   +0.j -0.001+0.j]\n",
      " [-0.001+0.j  0.   +0.j  0.245+0.j  0.   +0.j]\n",
      " [ 0.   +0.j -0.001+0.j  0.   +0.j  0.231+0.j]]\n",
      "[[ 0.267+0.j    -0.001+0.j    -0.001-0.j     0.   -0.j   ]\n",
      " [-0.001-0.j     0.257+0.j     0.001+0.j    -0.001+0.j   ]\n",
      " [-0.001+0.j     0.001-0.j     0.245+0.j    -0.   -0.001j]\n",
      " [ 0.   +0.j    -0.001-0.j    -0.   +0.001j  0.231+0.j   ]]\n"
     ]
    }
   ],
   "source": [
    "fts_magnus = simulate('magnus')"
   ]
  },
  {
   "cell_type": "code",
   "execution_count": 6,
   "metadata": {},
   "outputs": [
    {
     "data": {
      "image/png": "[encoded data removed]",
      "text/plain": [
       "<Figure size 432x288 with 1 Axes>"
      ]
     },
     "metadata": {
      "needs_background": "light"
     },
     "output_type": "display_data"
    }
   ],
   "source": [
    "fig, ax = plt.subplots() \n",
    "for eta, f, ft, t, fid in fts_magnus: \n",
    "\tplt.plot(t, np.real(fid))\n",
    "\n",
    "# ax.set_xlim(0, 0.2)\n",
    "# fig.show()"
   ]
  },
  {
   "cell_type": "code",
   "execution_count": 16,
   "metadata": {},
   "outputs": [
    {
     "data": {
      "image/png": "[encoded data removed]",
      "text/plain": [
       "<Figure size 432x288 with 1 Axes>"
      ]
     },
     "metadata": {
      "needs_background": "light"
     },
     "output_type": "display_data"
    }
   ],
   "source": [
    "fig, ax = plt.subplots()\n",
    "for eta, f, ft, t, fid in fts_magnus:\n",
    "    plt.plot(f, (np.absolute(ft)/np.max(np.absolute(ft)))**2, label=\"\\N{GREEK SMALL LETTER ETA} = \" + str(np.round(eta, 2)))\n",
    "\n",
    "plt.figtext(.65, .8, 'e2qQ = ' + str(np.round(e2qQ, 3)) + ' MHz')\n",
    "plt.legend(loc='upper left')\n",
    "plt.xlabel(\"frequency (MHz)\")    \n",
    "plt.ylabel(\"FT signal (a. u.)\")\n",
    "plt.xlim(0.74, 1.26)\n",
    "plt.show()"
   ]
  },
  {
   "cell_type": "markdown",
   "metadata": {},
   "source": [
    "Plot & solve mesolve solution QuTiP's [master equation solver](https://qutip.org/docs/latest/modules/qutip/mesolve.html#mesolve)::"
   ]
  },
  {
   "cell_type": "code",
   "execution_count": 8,
   "metadata": {},
   "outputs": [
    {
     "name": "stdout",
     "output_type": "stream",
     "text": [
      "[[0.267+0.j 0.   +0.j 0.   +0.j 0.   +0.j]\n",
      " [0.   +0.j 0.257+0.j 0.   +0.j 0.   +0.j]\n",
      " [0.   +0.j 0.   +0.j 0.245+0.j 0.   +0.j]\n",
      " [0.   +0.j 0.   +0.j 0.   +0.j 0.231+0.j]]\n",
      "[[ 0.267-0.j    -0.001-0.j     0.   -0.j    -0.   -0.j   ]\n",
      " [-0.001+0.j     0.257+0.j     0.001-0.j     0.   -0.j   ]\n",
      " [ 0.   +0.j     0.001+0.j     0.245-0.j    -0.   +0.001j]\n",
      " [-0.   +0.j     0.   +0.j    -0.   -0.001j  0.231+0.j   ]]\n",
      "[[ 0.267+0.j  0.   +0.j -0.001+0.j  0.   +0.j]\n",
      " [ 0.   +0.j  0.257+0.j  0.   +0.j -0.001+0.j]\n",
      " [-0.001+0.j  0.   +0.j  0.245+0.j  0.   +0.j]\n",
      " [ 0.   +0.j -0.001+0.j  0.   +0.j  0.231+0.j]]\n",
      "[[ 0.267-0.j    -0.001-0.j    -0.001-0.j     0.   +0.j   ]\n",
      " [-0.001+0.j     0.257+0.j     0.001-0.j    -0.001-0.j   ]\n",
      " [-0.001+0.j     0.001+0.j     0.245+0.j    -0.   +0.001j]\n",
      " [ 0.   -0.j    -0.001+0.j    -0.   -0.001j  0.231-0.j   ]]\n"
     ]
    }
   ],
   "source": [
    "fts_mesolve = simulate('mesolve')"
   ]
  },
  {
   "cell_type": "code",
   "execution_count": 9,
   "metadata": {},
   "outputs": [
    {
     "data": {
      "image/png": "[encoded data removed]",
      "text/plain": [
       "<Figure size 432x288 with 1 Axes>"
      ]
     },
     "metadata": {
      "needs_background": "light"
     },
     "output_type": "display_data"
    }
   ],
   "source": [
    "fig, ax = plt.subplots() \n",
    "for eta, f, ft, t, fid in fts_mesolve: \n",
    "\tplt.plot(t, np.imag(fid))\n",
    "\n",
    "# ax.set_xlim(0, 0.2)"
   ]
  },
  {
   "cell_type": "code",
   "execution_count": 15,
   "metadata": {},
   "outputs": [
    {
     "data": {
      "image/png": "[encoded data removed]",
      "text/plain": [
       "<Figure size 432x288 with 1 Axes>"
      ]
     },
     "metadata": {
      "needs_background": "light"
     },
     "output_type": "display_data"
    }
   ],
   "source": [
    "fig, ax = plt.subplots()\n",
    "for eta, f, ft, t, fid in fts_mesolve:\n",
    "    plt.plot(f, (np.absolute(ft)/np.max(np.absolute(ft)))**2, label=\"\\N{GREEK SMALL LETTER ETA} = \" + str(np.round(eta, 2)))\n",
    "\n",
    "plt.figtext(.65, .8, 'e2qQ = ' + str(np.round(e2qQ, 3)) + ' MHz')\n",
    "plt.legend(loc='upper left')\n",
    "plt.xlabel(\"frequency (MHz)\")    \n",
    "plt.ylabel(\"FT signal (a. u.)\")\n",
    "plt.xlim(0.74, 1.26)\n",
    "plt.show()\n"
   ]
  },
  {
   "cell_type": "markdown",
   "metadata": {},
   "source": [
    "Simulate with exact diagonalization approach:"
   ]
  },
  {
   "cell_type": "code",
   "execution_count": 11,
   "metadata": {},
   "outputs": [],
   "source": [
    "fts_ed = [] \n",
    "\n",
    "for eta in etas:\n",
    "\tquad_par = {'coupling constant' : e2qQ,\n",
    "\t\t\t\t'asymmetry parameter' : eta,\n",
    "\t\t\t\t'alpha_q' : 0.,\n",
    "\t\t\t\t'beta_q' : 0.,\n",
    "\t\t\t\t'gamma_q' : 0.}\n",
    "\n",
    "\tspin, h_unperturbed, dm_initial = nuclear_system_setup(spin_par, quad_par=quad_par, \n",
    "\t\t\t\t\t\t\t\t\t\tzeem_par=zeem_par, initial_state='canonical')\n",
    "\n",
    "    \n",
    "    \n",
    "\tt = np.linspace(0, 3200, 5*3200) # 50 second acquisition time, 1000 data points\n",
    "\n",
    "\tix, iy, iz = qt.spin_J_set(3 / 2)\n",
    "\tdm_initial = iz\n",
    "\trot_dm = apply_rot_pulse(dm_initial, np.pi/2, ix) # rotate about x axis\n",
    "\tdm_evolved, e_ops = ed_evolve(h_unperturbed, rot_dm, spin, t, e_ops=[], fid=True, par=True, T2=800)\n",
    "\n",
    "\tFID = e_ops[0]\n",
    "\n",
    "\tf, ft = fourier_transform_signal(FID, t, padding=0)\n",
    "\tfts_ed.append([eta, f, ft])\n"
   ]
  },
  {
   "cell_type": "markdown",
   "metadata": {},
   "source": [
    "Plot exact diagonalization solution:"
   ]
  },
  {
   "cell_type": "code",
   "execution_count": 14,
   "metadata": {},
   "outputs": [
    {
     "data": {
      "image/png": "[encoded data removed]",
      "text/plain": [
       "<Figure size 432x288 with 1 Axes>"
      ]
     },
     "metadata": {
      "needs_background": "light"
     },
     "output_type": "display_data"
    }
   ],
   "source": [
    "fig, ax = plt.subplots()\n",
    "for eta, f, ft in fts_ed:\n",
    "    plt.plot(f, (np.absolute(ft)/np.max(np.absolute(ft)))**2, label=\"\\N{GREEK SMALL LETTER ETA} = \" + str(np.round(eta, 2)))\n",
    "\n",
    "plt.figtext(.65, .8, 'e2qQ = ' + str(np.round(e2qQ, 3)) + ' MHz')\n",
    "plt.legend(loc='upper left')\n",
    "plt.xlabel(\"frequency (MHz)\")    \n",
    "plt.ylabel(\"FT signal (a. u.)\")\n",
    "plt.xlim(0.7, 1.3)\n",
    "plt.show()\n"
   ]
  },
  {
   "cell_type": "code",
   "execution_count": null,
   "metadata": {},
   "outputs": [],
   "source": []
  }
 ],
 "metadata": {
  "kernelspec": {
   "display_name": "Python 3 (ipykernel)",
   "language": "python",
   "name": "python3"
  },
  "language_info": {
   "codemirror_mode": {
    "name": "ipython",
    "version": 3
   },
   "file_extension": ".py",
   "mimetype": "text/x-python",
   "name": "python",
   "nbconvert_exporter": "python",
   "pygments_lexer": "ipython3",
   "version": "3.9.12"
  },
  "vscode": {
   "interpreter": {
    "hash": "31f2aee4e71d21fbe5cf8b01ff0e069b9275f58929596ceb00d14d90e3e16cd6"
   }
  }
 },
 "nbformat": 4,
 "nbformat_minor": 2
}
