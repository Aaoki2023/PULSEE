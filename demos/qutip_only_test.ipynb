{
 "cells": [
  {
   "cell_type": "code",
   "execution_count": 36,
   "metadata": {},
   "outputs": [
    {
     "name": "stdout",
     "output_type": "stream",
     "text": [
      "Quantum object: dims = [[2], [2]], shape = (2, 2), type = oper, isherm = True\n",
      "Qobj data =\n",
      "[[   0.5        +0.j         -263.5988765-267.24047092j]\n",
      " [  -2.1425229  +0.49907152j    0.5        +0.j        ]]\n"
     ]
    }
   ],
   "source": [
    "from qutip import * \n",
    "import numpy as np\n",
    "\n",
    "sz = sigmaz()\n",
    "\n",
    "init_ket = 2 ** (-1/2) * Qobj([[1], [1]]) # Bloch vector is unit x\n",
    "init_dm = init_ket * init_ket.dag()\n",
    "\n",
    "b_0 = 1\n",
    "gam = 1\n",
    "h_zeem = gam * b_0 * sz\n",
    "h = [h_zeem]\n",
    "\n",
    "larmor_freq = gam * b_0 \n",
    "period = 2 * np.pi / (larmor_freq)\n",
    "t = np.linspace(0, period / 2, 10)\n",
    "\n",
    "print(mesolve(h, init_dm, t, options=Options(nsteps=1e6)).states[-1])"
   ]
  },
  {
   "cell_type": "markdown",
   "metadata": {},
   "source": [
    "Should be \n",
    "\n",
    "$$\n",
    "\\begin{bmatrix}\n",
    "0.5 & -0.5 i \\\\ 0.5 i & 0.5\n",
    "\\end{bmatrix}\n",
    "$$"
   ]
  }
 ],
 "metadata": {
  "interpreter": {
   "hash": "a3d5eb4070905291bd6720710731f1ac3d7159dc04b2a1e7bb0e3fb41c7d0128"
  },
  "kernelspec": {
   "display_name": "Python 3.8.12 ('pulsee')",
   "language": "python",
   "name": "python3"
  },
  "language_info": {
   "codemirror_mode": {
    "name": "ipython",
    "version": 3
   },
   "file_extension": ".py",
   "mimetype": "text/x-python",
   "name": "python",
   "nbconvert_exporter": "python",
   "pygments_lexer": "ipython3",
   "version": "3.9.0"
  },
  "orig_nbformat": 4
 },
 "nbformat": 4,
 "nbformat_minor": 2
}
