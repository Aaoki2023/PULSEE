{
 "cells": [
  {
   "cell_type": "code",
   "execution_count": 5,
   "metadata": {},
   "outputs": [],
   "source": [
    "from qutip import Qobj, mesolve, sigmaz, Options\n",
    "import numpy as np"
   ]
  },
  {
   "cell_type": "code",
   "execution_count": 6,
   "metadata": {},
   "outputs": [
    {
     "data": {
      "text/plain": [
       "array([[ 0.5        +0.j        , 71.23362685+80.73640675j],\n",
       "       [ 5.06407916 -5.43870074j,  0.5        +0.j        ]])"
      ]
     },
     "execution_count": 6,
     "metadata": {},
     "output_type": "execute_result"
    }
   ],
   "source": [
    "init_dm = (1 / 2) * Qobj([[1, 1], [1, 1]])\n",
    "time_dep = lambda t, args: np.cos(t)\n",
    "b0 = 1 \n",
    "t_f = 10\n",
    "h0 = - Qobj(sigmaz())\n",
    "\n",
    "h = (h0, time_dep)\n",
    "t = np.linspace(0, t_f, 100)\n",
    "opt = Options(atol=1e-3, rtol=1e-3, rhs_reuse=False, nsteps=1500)\n",
    "\n",
    "mesolve([h], init_dm, t, options=opt).states[-1].full()"
   ]
  }
 ],
 "metadata": {
  "interpreter": {
   "hash": "a3d5eb4070905291bd6720710731f1ac3d7159dc04b2a1e7bb0e3fb41c7d0128"
  },
  "kernelspec": {
   "display_name": "Python 3.8.12 ('pulsee')",
   "language": "python",
   "name": "python3"
  },
  "language_info": {
   "codemirror_mode": {
    "name": "ipython",
    "version": 3
   },
   "file_extension": ".py",
   "mimetype": "text/x-python",
   "name": "python",
   "nbconvert_exporter": "python",
   "pygments_lexer": "ipython3",
   "version": "3.8.12"
  },
  "orig_nbformat": 4
 },
 "nbformat": 4,
 "nbformat_minor": 2
}
