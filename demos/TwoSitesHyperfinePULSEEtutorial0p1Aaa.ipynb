{
 "cells": [
  {
   "cell_type": "code",
   "execution_count": 1,
   "id": "64e6d9af",
   "metadata": {},
   "outputs": [],
   "source": [
    "import numpy as np\n",
    "import pandas as pd\n",
    "from pulsee.operators import * \n",
    "from pulsee.simulation import *\n",
    "import qutip as qt\n",
    "import matplotlib.pyplot as plt\n",
    "\n",
    "\n",
    "(Ix, Iy, Iz) = qt.spin_J_set(1/2)"
   ]
  },
  {
   "cell_type": "markdown",
   "id": "dde100a4",
   "metadata": {},
   "source": [
    "Set up a two spin system, first electron and second nucleus in a 10 T field. "
   ]
  },
  {
   "cell_type": "code",
   "execution_count": 2,
   "id": "74f68c5d",
   "metadata": {},
   "outputs": [],
   "source": [
    "qn = [1/2, 1/2]\n",
    "gr = [2000*10., 10.]\n",
    "B0 = 2*np.pi*10.\n",
    "\n",
    "spin_par = [{'quantum number' : qn[0],\n",
    "            'gamma/2pi' : gr[0]}, \n",
    "           {'quantum number' : qn[1],\n",
    "            'gamma/2pi' : gr[1]}]\n",
    "\n",
    "zeem_par = {'field magnitude' : B0,\n",
    "            'theta_z' : 0,\n",
    "            'phi_z' : 0}\n",
    "\n",
    "ACQUISITION_TIME = 1200\n",
    "N_POINTS = 240"
   ]
  },
  {
   "cell_type": "code",
   "execution_count": 3,
   "id": "80e2f2dc",
   "metadata": {},
   "outputs": [],
   "source": [
    "epsilon = 1e-6"
   ]
  },
  {
   "cell_type": "code",
   "execution_count": 4,
   "id": "0dea3e75",
   "metadata": {},
   "outputs": [],
   "source": [
    "def initialCoherent():\n",
    "    state = qt.spin_coherent(1/2, np.pi/2, np.pi/2)\n",
    "    vects = Iz.eigenstates()[1]\n",
    "    ksi = state *state.dag()\n",
    "    psi = vects[0]*vects[0].dag()\n",
    "    \n",
    "    A =-(0.5*(1/np.pi))*epsilon*B0*(gr[0]*qt.tensor(psi, qt.qeye(2)) + gr[1]*qt.tensor(qt.qeye(2), ksi)) + (1-epsilon)*qt.tensor(qt.qeye(2), qt.qeye(2))\n",
    "    return A/A.tr()"
   ]
  },
  {
   "cell_type": "markdown",
   "id": "1be65529",
   "metadata": {},
   "source": [
    "There is a hypefine coupling between them given by:\n",
    "\\begin{equation*}\n",
    "\t\\tilde{A} = \n",
    "\t\\begin{pmatrix}\n",
    "\t\t0.5 & 0 & 0.05 \\\\ \n",
    "\t\t0 & 0.5 & 0 \\\\\n",
    "\t\t0.05 & 0 & 0.5 \n",
    "\t\\end{pmatrix} \n",
    "\\end{equation*} "
   ]
  },
  {
   "cell_type": "code",
   "execution_count": 5,
   "id": "1046f146",
   "metadata": {},
   "outputs": [],
   "source": [
    "h_tensor_inter = 2*np.pi*np.array([[\n",
    "                0.5,\n",
    "                0.,\n",
    "                0.05],\n",
    "                [\n",
    "                0.,\n",
    "                0.5,\n",
    "                0.],\n",
    "            [\n",
    "                0.05,\n",
    "                0.,\n",
    "                0.5]])"
   ]
  },
  {
   "cell_type": "code",
   "execution_count": 6,
   "id": "cc8050aa",
   "metadata": {},
   "outputs": [],
   "source": [
    "dm_initial = qt.Qobj(np.array(initialCoherent()))"
   ]
  },
  {
   "cell_type": "code",
   "execution_count": 7,
   "id": "13c4776d",
   "metadata": {
    "scrolled": false
   },
   "outputs": [],
   "source": [
    "spin, h, _ = nuclear_system_setup(spin_par, quad_par=None, \n",
    "                                            zeem_par=zeem_par, h_tensor_inter=h_tensor_inter, initial_state=dm_initial)"
   ]
  },
  {
   "cell_type": "code",
   "execution_count": 8,
   "id": "edb060dd",
   "metadata": {},
   "outputs": [],
   "source": [
    "st0 = ed_evolve(h, dm_initial, spin, np.linspace(0, 8, 2), par = False)"
   ]
  },
  {
   "cell_type": "markdown",
   "id": "d9f11b4f",
   "metadata": {},
   "source": [
    "Apply a $\\pi/2$ pulse along Ix only to the nucleus."
   ]
  },
  {
   "cell_type": "code",
   "execution_count": 9,
   "id": "6eba0c8b",
   "metadata": {},
   "outputs": [],
   "source": [
    "st2 = apply_rot_pulse(st0[-1], np.pi/2,  (qt.tensor(qt.qeye(2), Ix)))"
   ]
  },
  {
   "cell_type": "code",
   "execution_count": 10,
   "id": "7c47e0a0",
   "metadata": {},
   "outputs": [],
   "source": [
    "times = np.linspace(start=0, stop=ACQUISITION_TIME, num=int(ACQUISITION_TIME*N_POINTS))"
   ]
  },
  {
   "cell_type": "code",
   "execution_count": 11,
   "id": "d501e8da",
   "metadata": {},
   "outputs": [
    {
     "name": "stdout",
     "output_type": "stream",
     "text": [
      "is ipynb\n"
     ]
    }
   ],
   "source": [
    "result = ed_evolve(h, st2, spin, times, fid = True, par = True)"
   ]
  },
  {
   "cell_type": "code",
   "execution_count": 12,
   "id": "5b7dcd11",
   "metadata": {},
   "outputs": [],
   "source": [
    "f, ft = fourier_transform_signal(result[1][0], times,  True, padding = 2)"
   ]
  },
  {
   "cell_type": "code",
   "execution_count": 13,
   "id": "64947e63",
   "metadata": {},
   "outputs": [
    {
     "data": {
      "image/png": "[encoded data removed]",
      "text/plain": [
       "<Figure size 432x288 with 1 Axes>"
      ]
     },
     "execution_count": 13,
     "metadata": {},
     "output_type": "execute_result"
    },
    {
     "data": {
      "image/png": "[encoded data removed]",
      "text/plain": [
       "<Figure size 432x288 with 1 Axes>"
      ]
     },
     "metadata": {
      "needs_background": "light"
     },
     "output_type": "display_data"
    }
   ],
   "source": [
    "plot_fourier_transform(f, ft, square_modulus=True, show = False)"
   ]
  },
  {
   "cell_type": "code",
   "execution_count": 14,
   "id": "97f51214",
   "metadata": {},
   "outputs": [
    {
     "data": {
      "image/png": "[encoded data removed]",
      "text/plain": [
       "<Figure size 432x288 with 1 Axes>"
      ]
     },
     "metadata": {
      "needs_background": "light"
     },
     "output_type": "display_data"
    }
   ],
   "source": [
    "plt.plot(f, np.abs(ft)/np.max(np.abs(ft)))\n",
    "\n",
    "plt.xlabel('freq (MHz)')\n",
    "plt.ylabel('Signal')\n",
    "plt.xlim([-100.6, -99.4])\n",
    "# plt.legend()\n",
    "plt.show()"
   ]
  },
  {
   "cell_type": "code",
   "execution_count": 15,
   "id": "034071b6",
   "metadata": {},
   "outputs": [
    {
     "data": {
      "image/png": "[encoded data removed]",
      "text/plain": [
       "<Figure size 432x288 with 1 Axes>"
      ]
     },
     "metadata": {
      "needs_background": "light"
     },
     "output_type": "display_data"
    }
   ],
   "source": [
    "plt.plot(f, np.abs(ft)/np.max(np.abs(ft)))\n",
    "\n",
    "plt.xlabel('freq (MHz)')\n",
    "plt.ylabel('Signal')\n",
    "plt.xlim([-81.0, -80.4])\n",
    "# plt.legend()\n",
    "plt.show()"
   ]
  },
  {
   "cell_type": "code",
   "execution_count": null,
   "id": "6aaeb172",
   "metadata": {},
   "outputs": [],
   "source": []
  }
 ],
 "metadata": {
  "kernelspec": {
   "display_name": "Python 3.10.4 64-bit",
   "language": "python",
   "name": "python3"
  },
  "language_info": {
   "codemirror_mode": {
    "name": "ipython",
    "version": 3
   },
   "file_extension": ".py",
   "mimetype": "text/x-python",
   "name": "python",
   "nbconvert_exporter": "python",
   "pygments_lexer": "ipython3",
   "version": "3.10.4"
  },
  "vscode": {
   "interpreter": {
    "hash": "31f2aee4e71d21fbe5cf8b01ff0e069b9275f58929596ceb00d14d90e3e16cd6"
   }
  }
 },
 "nbformat": 4,
 "nbformat_minor": 5
}
