{
 "cells": [
  {
   "cell_type": "code",
   "execution_count": null,
   "outputs": [],
   "source": [
    "import numpy as np\n",
    "import qutip as qt\n",
    "import pandas as pd\n",
    "\n",
    "from pulsee import simulation as sim, operators as op, spin_squeezing as sqz\n",
    "import pulsee.plot as psplt"
   ],
   "metadata": {
    "collapsed": false
   },
   "id": "2131164c236ec611"
  },
  {
   "cell_type": "code",
   "execution_count": null,
   "outputs": [],
   "source": [
    "QUANTUM_NUMBERS = [3/2] # spin 3/2\n",
    "GAMMA_2PIS = [4.17169] # = gamma / 2pi\n",
    "\n",
    "# Place the nulceus in a field\n",
    "B0 = 1\n",
    "W0 = GAMMA_2PIS[0] * B0 * 2 * np.pi \n",
    "B1 = 1e-10\n",
    "zeem_par = {'field magnitude' : B0, 'theta_z' : 0, 'phi_z' : 0}\n",
    "\n",
    "ACQUISITION_TIME = 800 # in microseconds\n",
    "T2 = 500\n",
    "\n",
    "h_dict = {\n",
    "}\n",
    "\n",
    "args = h_dict.copy()\n",
    "spin_par = []\n",
    "for qn, gam in zip(QUANTUM_NUMBERS, GAMMA_2PIS):\n",
    "    spin_par.append({'quantum number': qn, 'gamma/2pi': gam})\n",
    "\n",
    "WQ = 1 * 2 * np.pi\n",
    "quad_par = [{'coupling constant' : 3 * WQ/np.pi,\n",
    "                    'asymmetry parameter' : 0,\n",
    "                    'alpha_q' : np.pi,\n",
    "                    'beta_q' : 0.,\n",
    "                    'gamma_q' : 0.,\n",
    "                    'order' : 0}]\n",
    "\n",
    "args['spin_par'] = spin_par \n",
    "args['zeem_par'] = zeem_par\n",
    "args['quad_par'] = quad_par"
   ],
   "metadata": {
    "collapsed": false
   },
   "id": "2d2935c31247314d"
  },
  {
   "cell_type": "code",
   "execution_count": null,
   "outputs": [],
   "source": [
    "pulse_time = 2 / (4 * 3 * GAMMA_2PIS[0] * B1)\n",
    "mode = pd.DataFrame([( B0 * GAMMA_2PIS[0], B1, 0., np.pi/2, 0, pulse_time)], \n",
    "                           columns=['frequency', 'amplitude', 'phase', 'theta_p', 'phi_p', 'pulse_time'])"
   ],
   "metadata": {
    "collapsed": false
   },
   "id": "4d5b287955bfdcad"
  },
  {
   "cell_type": "code",
   "execution_count": null,
   "outputs": [],
   "source": [
    "initial_state={'theta' : np.deg2rad(90), 'phi' : np.deg2rad(180)}"
   ],
   "metadata": {
    "collapsed": false
   },
   "id": "e31a98d1c1344da7"
  },
  {
   "cell_type": "code",
   "execution_count": null,
   "outputs": [],
   "source": [
    "spin, _, dm_initial = sim.nuclear_system_setup(spin_par, quad_par=quad_par,\n",
    "                                            zeem_par=zeem_par, initial_state=[{'theta' : np.deg2rad(90), 'phi' : np.deg2rad(180)}])\n",
    "sqz_ops = sqz.useful_sqz_ops(spin)\n",
    "Ix, Iy, Iz, Ix2, Iy2, Iz2, Ip2, Ip_2Iz = (sqz_ops.Ix, sqz_ops.Iy, sqz_ops.Iz, sqz_ops.Ix2, sqz_ops.Iy2, sqz_ops.Iz2, sqz_ops.Ip2, sqz_ops.Ip_2Iz)"
   ],
   "metadata": {
    "collapsed": false
   },
   "id": "f9d2aa8c20b1f865"
  },
  {
   "cell_type": "code",
   "execution_count": null,
   "outputs": [],
   "source": [
    "def defHlab(eta, omegaQ, gammaS, field=B0):\n",
    "    Hamil = -gammaS*field*Iz\n",
    "    \n",
    "    Hamil += omegaQ*((3*Iz2)/2)\n",
    "    #omegaQ is (uni)axail anisotropy?\n",
    "\n",
    "    Hamil += omegaQ*eta*(Ix2 - Iy2)/2\n",
    "    #omegaT transverse anisotropy\n",
    "    #eta = omegaT/omegaQ, let's keep omegaQ constant\n",
    "    return [Hamil]"
   ],
   "metadata": {
    "collapsed": false
   },
   "id": "e4e1a1d218b49d04"
  },
  {
   "cell_type": "code",
   "execution_count": null,
   "outputs": [],
   "source": [
    "h_unperturbed = defHlab(0, WQ, 0, 0)"
   ],
   "metadata": {
    "collapsed": false
   },
   "id": "4122d5a07871d651"
  },
  {
   "cell_type": "code",
   "execution_count": null,
   "outputs": [],
   "source": [
    "# sqz.CSS(spin, initial_state={'theta' : np.deg2rad(9), 'phi' : np.deg2rad(180)})"
   ],
   "metadata": {
    "collapsed": false
   },
   "id": "50ec110df3d3afaa"
  },
  {
   "cell_type": "code",
   "execution_count": null,
   "outputs": [],
   "source": [
    "fig = psplt.plot_complex_density_matrix(dm_initial)"
   ],
   "metadata": {
    "collapsed": false
   },
   "id": "75f257fa9431ae14"
  },
  {
   "cell_type": "code",
   "execution_count": 1,
   "id": "1a6ae587-d1bc-4c66-ac76-7b43aff6b001",
   "metadata": {
    "ExecuteTime": {
     "end_time": "2023-11-05T01:41:34.302297500Z",
     "start_time": "2023-11-05T01:41:33.542215800Z"
    }
   },
   "outputs": [
    {
     "ename": "NameError",
     "evalue": "name 'WQ' is not defined",
     "output_type": "error",
     "traceback": [
      "\u001B[1;31m---------------------------------------------------------------------------\u001B[0m",
      "\u001B[1;31mNameError\u001B[0m                                 Traceback (most recent call last)",
      "Cell \u001B[1;32mIn[1], line 1\u001B[0m\n\u001B[1;32m----> 1\u001B[0m wQaxis \u001B[38;5;241m=\u001B[39m \u001B[38;5;241m1\u001B[39m\u001B[38;5;241m/\u001B[39m(\u001B[38;5;241m3\u001B[39m\u001B[38;5;241m*\u001B[39m\u001B[43mWQ\u001B[49m)\n\u001B[0;32m      2\u001B[0m times \u001B[38;5;241m=\u001B[39m np\u001B[38;5;241m.\u001B[39marange(\u001B[38;5;241m0\u001B[39m, wQaxis, \u001B[38;5;241m1e-3\u001B[39m)\n\u001B[0;32m      3\u001B[0m \u001B[38;5;66;03m# times=\u001B[39;00m\n",
      "\u001B[1;31mNameError\u001B[0m: name 'WQ' is not defined"
     ]
    }
   ],
   "source": [
    "wQaxis = 1/(3*WQ)\n",
    "times = np.arange(0, wQaxis, 1e-3)\n",
    "# times="
   ]
  },
  {
   "cell_type": "code",
   "execution_count": null,
   "id": "a6ad8ec2-0967-44fd-a742-1c4991ccf329",
   "metadata": {
    "ExecuteTime": {
     "start_time": "2023-11-05T01:41:34.306297600Z"
    }
   },
   "outputs": [],
   "source": [
    "h_unperturbed"
   ]
  },
  {
   "cell_type": "code",
   "execution_count": null,
   "id": "3e2f898e-60e0-4206-8bfa-bb5ccd0d3532",
   "metadata": {
    "ExecuteTime": {
     "end_time": "2023-11-05T01:41:34.315299700Z",
     "start_time": "2023-11-05T01:41:34.309298200Z"
    }
   },
   "outputs": [],
   "source": [
    "opts = qt.Options(atol=1e-16, rtol=1e-16, rhs_reuse=False, nsteps=40000)\n",
    "dms = sim.evolve(spin, h_unperturbed, dm_initial, solver='mesolve', \\\n",
    "                        mode=mode, times=times, opts=opts, return_allstates=True)"
   ]
  },
  {
   "cell_type": "code",
   "execution_count": null,
   "id": "00962c48-1507-43dc-a756-48349343eebe",
   "metadata": {
    "ExecuteTime": {
     "start_time": "2023-11-05T01:41:34.310363500Z"
    }
   },
   "outputs": [],
   "source": [
    "sqz_ops = sqz.populate_averge_values(dms, sqz_ops)"
   ]
  },
  {
   "cell_type": "code",
   "execution_count": null,
   "id": "faf726a4-4d90-4c33-a557-bc7fed630177",
   "metadata": {
    "ExecuteTime": {
     "start_time": "2023-11-05T01:41:34.312340800Z"
    }
   },
   "outputs": [],
   "source": [
    "It = np.sqrt(sqz_ops.avIx**2+sqz_ops.avIy**2+sqz_ops.avIy**2)\n",
    "sqz.plot_values([sqz_ops.avIx, sqz_ops.avIy, sqz_ops.avIz, It], times, [2,2],\n",
    "                wQaxis, x_label=r'Scaled Time ($\\omega_Q^{-1}$)')"
   ]
  },
  {
   "cell_type": "code",
   "execution_count": null,
   "id": "e893c08f-4d93-41b0-ab85-94e88ad0a36f",
   "metadata": {
    "ExecuteTime": {
     "end_time": "2023-11-05T01:41:34.316297100Z",
     "start_time": "2023-11-05T01:41:34.316297100Z"
    }
   },
   "outputs": [],
   "source": [
    "DIx = np.sqrt(sqz_ops.avIx2-sqz_ops.avIx**2)\n",
    "DIy = np.sqrt(sqz_ops.avIy2-sqz_ops.avIy**2)\n",
    "DIz = np.sqrt(sqz_ops.avIz2-sqz_ops.avIz**2)\n",
    "\n",
    "sqz.plot_values([DIx, DIy, DIz], times, 1, wQaxis, title='Standard deviation values', \n",
    "                y_label='Standard Deviation', x_label='Scaled Time ($\\omega_Q^{-1}$)', labels=['\\Delta I_x', '\\Delta I_y', '\\Delta I_z'])"
   ]
  },
  {
   "cell_type": "code",
   "execution_count": null,
   "id": "95fc4394-e583-4a6b-bdf9-38357147b1a8",
   "metadata": {
    "ExecuteTime": {
     "end_time": "2023-11-05T01:41:34.320298Z",
     "start_time": "2023-11-05T01:41:34.318298700Z"
    }
   },
   "outputs": [],
   "source": [
    "xi, alpha, Jn_1, Jn_2, Jn_3 = sqz.calc_squeez_param(sqz_ops, spin.I['I'], xi_sq=True, return_av_spher=True)\n",
    "sqz.plot_values([xi, alpha], times, [2, 1], wQaxis, title=r'Gerenalized $\\xi^2$',\n",
    "                labels=[\"\\\\xi^2\", \"\\\\alpha_\\\\xi\"], x_label='Scaled Time ($\\omega_Q^{-1}$)', put_brackets=False)"
   ]
  },
  {
   "cell_type": "code",
   "execution_count": null,
   "id": "b505c02e-5aee-4bbf-8fae-453425324002",
   "metadata": {
    "ExecuteTime": {
     "start_time": "2023-11-05T01:41:34.320298Z"
    }
   },
   "outputs": [],
   "source": [
    "sqz.plot_values([Jn_1, Jn_2, Jn_3], times, 1, wQaxis, title='Mean values of magnetization in spherical',\n",
    "    x_label='Scaled Time ($\\omega_Q^{-1}$)', labels=['Jn_1', 'Jn_2', 'Jn_3'],put_brackets=True)"
   ]
  },
  {
   "cell_type": "code",
   "execution_count": null,
   "id": "e39b1f59-b3b9-4033-9dc6-b21a4ca93eb5",
   "metadata": {
    "ExecuteTime": {
     "end_time": "2023-11-05T01:41:34.325296100Z",
     "start_time": "2023-11-05T01:41:34.322301800Z"
    }
   },
   "outputs": [],
   "source": []
  }
 ],
 "metadata": {
  "kernelspec": {
   "display_name": "Python 3 (ipykernel)",
   "language": "python",
   "name": "python3"
  },
  "language_info": {
   "codemirror_mode": {
    "name": "ipython",
    "version": 3
   },
   "file_extension": ".py",
   "mimetype": "text/x-python",
   "name": "python",
   "nbconvert_exporter": "python",
   "pygments_lexer": "ipython3",
   "version": "3.10.12"
  }
 },
 "nbformat": 4,
 "nbformat_minor": 5
}
