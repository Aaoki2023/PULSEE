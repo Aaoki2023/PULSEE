{
 "cells": [
  {
   "cell_type": "code",
   "execution_count": 1,
   "id": "bff8fa88-cd57-4ed0-b52a-c7c77c9cf77a",
   "metadata": {},
   "outputs": [],
   "source": [
    "import numpy as np\n",
    "import qutip as qt\n",
    "import pandas as pd\n",
    "\n",
    "from pulsee import simulation as sim, operators as op, spin_squeezing as sqz\n",
    "\n",
    "from ipywidgets import interact, interactive, fixed, interact_manual\n",
    "import ipywidgets as widgets"
   ]
  },
  {
   "cell_type": "code",
   "execution_count": 2,
   "id": "3d337533-074c-47ca-a2a8-e8a42440120e",
   "metadata": {},
   "outputs": [],
   "source": [
    "QUANTUM_NUMBERS = [3/2] # spin 3/2\n",
    "GAMMA_2PIS = [4.17169] # = gamma / 2pi"
   ]
  },
  {
   "cell_type": "code",
   "execution_count": 3,
   "id": "89b9cf47-4d7c-4bd5-80e8-2b92583ce0a4",
   "metadata": {},
   "outputs": [],
   "source": [
    "def defHlab(eta, omegaQ, Iz, Ix2, Iy2, Iz2, gammaS=0, field=0):\n",
    "    Hamil = -gammaS*field*Iz\n",
    "    \n",
    "    Hamil += omegaQ*((3*Iz2)/2)\n",
    "    #omegaQ is (uni)axail anisotropy?\n",
    "\n",
    "    Hamil += omegaQ*eta*(Ix2 - Iy2)/2\n",
    "    #omegaT transverse anisotropy\n",
    "    #eta = omegaT/omegaQ, let's keep omegaQ constant\n",
    "    return [Hamil]"
   ]
  },
  {
   "cell_type": "code",
   "execution_count": 4,
   "id": "4a0346e1-d7f6-4a67-8f58-862b1a99a822",
   "metadata": {},
   "outputs": [
    {
     "data": {
      "application/vnd.jupyter.widget-view+json": {
       "model_id": "0f947cf063f4401882b6f282a011225d",
       "version_major": 2,
       "version_minor": 0
      },
      "text/plain": [
       "interactive(children=(FloatSlider(value=0.0, description='eta', max=1.0, step=0.01), FloatSlider(value=62.8318…"
      ]
     },
     "execution_count": 4,
     "metadata": {},
     "output_type": "execute_result"
    }
   ],
   "source": [
    "def varyParams(eta, WQ, theta, phi):\n",
    "    # Place the nulceus in a field\n",
    "    B0 = 0\n",
    "    W0 = GAMMA_2PIS[0] * B0 * 2 * np.pi \n",
    "    B1 = 1e-10\n",
    "    zeem_par = {'field magnitude' : B0, 'theta_z' : 0, 'phi_z' : 0}\n",
    "    \n",
    "    ACQUISITION_TIME = 800 # in microseconds\n",
    "    T2 = 500\n",
    "    \n",
    "    h_dict = {\n",
    "    }\n",
    "    \n",
    "    args = h_dict.copy()\n",
    "    spin_par = []\n",
    "    for qn, gam in zip(QUANTUM_NUMBERS, GAMMA_2PIS):\n",
    "        spin_par.append({'quantum number': qn, 'gamma/2pi': gam})\n",
    "    \n",
    "    quad_par = [{'coupling constant' : 3 * WQ/np.pi,\n",
    "                        'asymmetry parameter' : 0,\n",
    "                        'alpha_q' : np.pi,\n",
    "                        'beta_q' : 0.,\n",
    "                        'gamma_q' : 0.,\n",
    "                        'order' : 0}]\n",
    "    \n",
    "    args['spin_par'] = spin_par \n",
    "    args['zeem_par'] = zeem_par\n",
    "    args['quad_par'] = quad_par\n",
    "\n",
    "    pulse_time = 2 / (4 * 3 * GAMMA_2PIS[0] * B1)\n",
    "    mode = pd.DataFrame([( B0 * GAMMA_2PIS[0], B1, 0., np.pi/2, 0, pulse_time)], \n",
    "                           columns=['frequency', 'amplitude', 'phase', 'theta_p', 'phi_p', 'pulse_time'])\n",
    "\n",
    "    theta = np.deg2rad(theta)\n",
    "    phi = np.deg2rad(phi)\n",
    "    \n",
    "    spin, _, dm_initial = sim.nuclear_system_setup(spin_par, quad_par=quad_par,\n",
    "                                            zeem_par=zeem_par, initial_state=[{'theta' : theta, 'phi' :phi}])\n",
    "    sqz_ops = sqz.useful_sqz_ops(spin)\n",
    "    Ix, Iy, Iz, Ix2, Iy2, Iz2, Ip2, Ip_2Iz = (sqz_ops.Ix, sqz_ops.Iy, sqz_ops.Iz, sqz_ops.Ix2, sqz_ops.Iy2, sqz_ops.Iz2, sqz_ops.Ip2, sqz_ops.Ip_2Iz)\n",
    "\n",
    "    h_unperturbed = defHlab(0, WQ, Iz, Ix2, Iy2, Iz2)\n",
    "    \n",
    "    fig = psplt.plot_complex_density_matrix(dm_initial)\n",
    "    \n",
    "    wQaxis = (1/3)/WQ\n",
    "    times = np.arange(0, wQaxis, 1e-4)\n",
    "\n",
    "    opts = qt.Options(atol=1e-16, rtol=1e-16, rhs_reuse=False, nsteps=40000)\n",
    "    dms = sim.evolve(spin, h_unperturbed, dm_initial, solver='mesolve', \\\n",
    "                        mode=mode, times=times, opts=opts, return_allstates=True)\n",
    "\n",
    "    sqz_ops = sqz.populate_averge_values(dms, sqz_ops)\n",
    "\n",
    "    It = np.sqrt(sqz_ops.avIx**2+sqz_ops.avIy**2+sqz_ops.avIy**2)\n",
    "    sqz.plot_values([sqz_ops.avIx, sqz_ops.avIy, sqz_ops.avIz, It], times, [2,2],\n",
    "                    wQaxis, x_label=r'Scaled Time ($\\omega_Q^{-1}$)')\n",
    "\n",
    "\n",
    "    DIx = np.sqrt(sqz_ops.avIx2-sqz_ops.avIx**2)\n",
    "    DIy = np.sqrt(sqz_ops.avIy2-sqz_ops.avIy**2)\n",
    "    DIz = np.sqrt(sqz_ops.avIz2-sqz_ops.avIz**2)\n",
    "    \n",
    "    sqz.plot_values([DIx, DIy, DIz], times, 1, wQaxis, title='Standard deviation values', \n",
    "                y_label='Standard Deviation', x_label='Scaled Time ($\\omega_Q^{-1}$)', labels=['\\Delta I_x', '\\Delta I_y', '\\Delta I_z'])\n",
    "\n",
    "    xi, alpha, Jn_1, Jn_2, Jn_3 = sqz.calc_squeez_param(sqz_ops, spin.I['I'], xi_sq=True, return_av_spher=True)\n",
    "    sqz.plot_values([xi, alpha], times, [2, 1], wQaxis, title=r'Gerenalized $\\xi^2$',\n",
    "                    labels=[\"\\\\xi^2\", \"\\\\alpha_\\\\xi\"], x_label='Scaled Time ($\\omega_Q^{-1}$)', put_brackets=False)\n",
    "\n",
    "    sqz.plot_values([Jn_1, Jn_2, Jn_3], times, 1, wQaxis, title='Mean values of magnetization in spherical',\n",
    "                     x_label='Scaled Time ($\\omega_Q^{-1}$)', labels=['Jn_1', 'Jn_2', 'Jn_3'],put_brackets=True)\n",
    "\n",
    "#specify the step for 𝜂\n",
    "step = 0.01\n",
    "\n",
    "#specify the step for𝜔𝑄\n",
    "step1 = 1*2*np.pi*1e1\n",
    "\n",
    "interactive_plot = interactive(varyParams, eta=(0, 1, step), WQ = (0, 30.286*2*np.pi, step1), theta=(0, 180, 10), phi=(0, 360, 10))\n",
    "output = interactive_plot.children[-1]\n",
    "output.layout.height = '1380px'\n",
    "interactive_plot   "
   ]
  },
  {
   "cell_type": "code",
   "execution_count": null,
   "id": "144294e7-a353-463d-a118-97894f3028cb",
   "metadata": {},
   "outputs": [],
   "source": []
  }
 ],
 "metadata": {
  "kernelspec": {
   "display_name": "Python 3 (ipykernel)",
   "language": "python",
   "name": "python3"
  },
  "language_info": {
   "codemirror_mode": {
    "name": "ipython",
    "version": 3
   },
   "file_extension": ".py",
   "mimetype": "text/x-python",
   "name": "python",
   "nbconvert_exporter": "python",
   "pygments_lexer": "ipython3",
   "version": "3.10.12"
  }
 },
 "nbformat": 4,
 "nbformat_minor": 5
}
