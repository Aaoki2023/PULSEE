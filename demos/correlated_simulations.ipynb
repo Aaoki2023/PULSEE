{
 "cells": [
  {
   "cell_type": "markdown",
   "metadata": {},
   "source": [
    "### Imports, Simulation Setup"
   ]
  },
  {
   "cell_type": "code",
   "execution_count": 1,
   "metadata": {},
   "outputs": [],
   "source": [
    "from qutip import Qobj\n",
    "import numpy as np \n",
    "import pandas as pd\n",
    "import pulsee.simulation as sim\n",
    "import pulsee.quantum_computing as qc \n",
    "import pulsee.operators as op \n",
    "from pulsee.pulses import Pulses\n",
    "#from pulsee.many_body import tensor_product"
   ]
  },
  {
   "cell_type": "code",
   "execution_count": 2,
   "metadata": {},
   "outputs": [],
   "source": [
    "Iz = np.array([[1/2, 0], [0,-1/2]])\n",
    "#Iz = Qobj(Iz)"
   ]
  },
  {
   "cell_type": "code",
   "execution_count": 3,
   "metadata": {},
   "outputs": [],
   "source": [
    "SIM_NAME = \"/test/11uncorrelated_mixed_no_interactions\""
   ]
  },
  {
   "cell_type": "markdown",
   "metadata": {},
   "source": [
    "### Quantum System Setup\n",
    "Spin-$\\frac{1}{2}$ system with $\\gamma/2\\pi = 4.00$ MHz/T (see Candoli thesis §4.1) and $B_0 = 10$ T:"
   ]
  },
  {
   "cell_type": "code",
   "execution_count": 4,
   "metadata": {},
   "outputs": [],
   "source": [
    "CORRELATED = True\n",
    "MIXED = True\n",
    "QUANTUM_NUMBERS = [1.5, 0.5] \n",
    "GAMMA_2PIS = [4.00, 0] \n",
    "B_0 = 10\n",
    "# one control qubit (cnotnot) or two control qubits (toffoli)\n",
    "CNOT_GATE = qc.toffoli \n",
    "\n",
    "zeem_par = {'field magnitude' : B_0,\n",
    "                'theta_z' : 0,\n",
    "                'phi_z' : 0}"
   ]
  },
  {
   "cell_type": "markdown",
   "metadata": {},
   "source": [
    "### Pulse\n",
    "Set up single mode pulse of form \n",
    "$$\\mathbf{B}_1(t) = 2 B_1 \\cos(2\\pi \\nu + \\delta)\\cdot \\hat{\\mathbf{n}}(\\theta, \\phi)$$\n",
    "where $\\theta$ and $\\phi$ are the polar and azimuthal angles respectively. $B_1$ in T, $\\nu$ in MHz, $\\delta$, $\\phi$, and $\\theta$ in radians. TODO: $\\nu$ depends on $e^2 q Q $ and $\\eta$? What is $\\eta$? Why?\n",
    "\n",
    "For simplest case apply $\\pi/2$ pulse with $B_1 = B_0 / 100 $, $ \\nu = (\\gamma/2\\pi) \\cdot B_0 $, $\\delta = \\phi =0$, $\\theta=\\pi/2$."
   ]
  },
  {
   "cell_type": "code",
   "execution_count": 5,
   "metadata": {},
   "outputs": [],
   "source": [
    "B_1 = B_0 / 100\n",
    "FREQ = GAMMA_2PIS[0] * B_0\n",
    "PHASE = 0\n",
    "POLAR_B = np.pi / 2 \n",
    "AZIMUTHAL_B = 0 \n",
    "PULSE_TIME = 1 / (4 * FREQ)\n",
    "mode = Pulses(frequencies=[FREQ], amplitudes=[2*B_1], phases=[PHASE], theta_p=[POLAR_B], phi_p=[AZIMUTHAL_B], pulse_times=[PULSE_TIME])\n",
    "#mode = pd.DataFrame([(FREQ, 2 * B_1, PHASE, POLAR_B, AZIMUTHAL_B)],\n",
    "#\t\t\t\t\tcolumns=['frequency', 'amplitude', 'phase', 'theta_p', 'phi_p'])"
   ]
  },
  {
   "cell_type": "markdown",
   "metadata": {},
   "source": [
    "### Experiment Settings"
   ]
  },
  {
   "cell_type": "code",
   "execution_count": 6,
   "metadata": {},
   "outputs": [],
   "source": [
    "ACQUISITION_TIME = 1000 # in microseconds\n",
    "T2 = 100"
   ]
  },
  {
   "cell_type": "markdown",
   "metadata": {},
   "source": [
    "### Hamiltonians\n",
    "Here we add the desired Hamiltonian interaction terms. Add these to the following dictionary `args` with key as it appears in `nuclear_system_setup` function. The value should be the parameters of the associated Hamiltonian as it appears in `nuclear_system_setup`."
   ]
  },
  {
   "cell_type": "code",
   "execution_count": 7,
   "metadata": {},
   "outputs": [],
   "source": [
    "h_dict = {\n",
    "}"
   ]
  },
  {
   "cell_type": "markdown",
   "metadata": {},
   "source": [
    "### Density Matrix Setup \n",
    "If `CORRELATED` start with qubit $\\ket{111}$ so that in the case of \n",
    "Toffoli (CCNOT) the second control qubit leads to negation of last qubit. \n",
    "Before applying CCNOT or CNOTNOT apply Hadamard to first qubit to create \n",
    "superposition. "
   ]
  },
  {
   "cell_type": "code",
   "execution_count": 8,
   "metadata": {},
   "outputs": [
    {
     "name": "stdout",
     "output_type": "stream",
     "text": [
      "[[5.00000000e-001+0.j 0.00000000e+000+0.j 0.00000000e+000+0.j\n",
      "  0.00000000e+000+0.j 0.00000000e+000+0.j 0.00000000e+000+0.j\n",
      "  0.00000000e+000+0.j 0.00000000e+000+0.j]\n",
      " [0.00000000e+000+0.j 5.00000000e-001+0.j 0.00000000e+000+0.j\n",
      "  0.00000000e+000+0.j 0.00000000e+000+0.j 0.00000000e+000+0.j\n",
      "  0.00000000e+000+0.j 0.00000000e+000+0.j]\n",
      " [0.00000000e+000+0.j 0.00000000e+000+0.j 2.06623579e-053+0.j\n",
      "  0.00000000e+000+0.j 0.00000000e+000+0.j 0.00000000e+000+0.j\n",
      "  0.00000000e+000+0.j 0.00000000e+000+0.j]\n",
      " [0.00000000e+000+0.j 0.00000000e+000+0.j 0.00000000e+000+0.j\n",
      "  2.06623579e-053+0.j 0.00000000e+000+0.j 0.00000000e+000+0.j\n",
      "  0.00000000e+000+0.j 0.00000000e+000+0.j]\n",
      " [0.00000000e+000+0.j 0.00000000e+000+0.j 0.00000000e+000+0.j\n",
      "  0.00000000e+000+0.j 8.53866066e-106+0.j 0.00000000e+000+0.j\n",
      "  0.00000000e+000+0.j 0.00000000e+000+0.j]\n",
      " [0.00000000e+000+0.j 0.00000000e+000+0.j 0.00000000e+000+0.j\n",
      "  0.00000000e+000+0.j 0.00000000e+000+0.j 8.53866066e-106+0.j\n",
      "  0.00000000e+000+0.j 0.00000000e+000+0.j]\n",
      " [0.00000000e+000+0.j 0.00000000e+000+0.j 0.00000000e+000+0.j\n",
      "  0.00000000e+000+0.j 0.00000000e+000+0.j 0.00000000e+000+0.j\n",
      "  3.52857724e-158+0.j 0.00000000e+000+0.j]\n",
      " [0.00000000e+000+0.j 0.00000000e+000+0.j 0.00000000e+000+0.j\n",
      "  0.00000000e+000+0.j 0.00000000e+000+0.j 0.00000000e+000+0.j\n",
      "  0.00000000e+000+0.j 3.52857724e-158+0.j]]\n",
      "H_unperturbed:\n",
      "[[-60.+0.j   0.+0.j   0.+0.j   0.+0.j   0.+0.j   0.+0.j   0.+0.j   0.+0.j]\n",
      " [  0.+0.j -60.+0.j   0.+0.j   0.+0.j   0.+0.j   0.+0.j   0.+0.j   0.+0.j]\n",
      " [  0.+0.j   0.+0.j -20.+0.j   0.+0.j   0.+0.j   0.+0.j   0.+0.j   0.+0.j]\n",
      " [  0.+0.j   0.+0.j   0.+0.j -20.+0.j   0.+0.j   0.+0.j   0.+0.j   0.+0.j]\n",
      " [  0.+0.j   0.+0.j   0.+0.j   0.+0.j  20.+0.j   0.+0.j   0.+0.j   0.+0.j]\n",
      " [  0.+0.j   0.+0.j   0.+0.j   0.+0.j   0.+0.j  20.+0.j   0.+0.j   0.+0.j]\n",
      " [  0.+0.j   0.+0.j   0.+0.j   0.+0.j   0.+0.j   0.+0.j  60.+0.j   0.+0.j]\n",
      " [  0.+0.j   0.+0.j   0.+0.j   0.+0.j   0.+0.j   0.+0.j   0.+0.j  60.+0.j]]\n",
      "Initial density matrix:\n",
      "[[0.25+0.j 0.  +0.j 0.  +0.j 0.  +0.j 0.25+0.j 0.  +0.j 0.  +0.j 0.  +0.j]\n",
      " [0.  +0.j 0.25+0.j 0.  +0.j 0.  +0.j 0.  +0.j 0.25+0.j 0.  +0.j 0.  +0.j]\n",
      " [0.  +0.j 0.  +0.j 0.  +0.j 0.  +0.j 0.  +0.j 0.  +0.j 0.  +0.j 0.  +0.j]\n",
      " [0.  +0.j 0.  +0.j 0.  +0.j 0.  +0.j 0.  +0.j 0.  +0.j 0.  +0.j 0.  +0.j]\n",
      " [0.25+0.j 0.  +0.j 0.  +0.j 0.  +0.j 0.25+0.j 0.  +0.j 0.  +0.j 0.  +0.j]\n",
      " [0.  +0.j 0.25+0.j 0.  +0.j 0.  +0.j 0.  +0.j 0.25+0.j 0.  +0.j 0.  +0.j]\n",
      " [0.  +0.j 0.  +0.j 0.  +0.j 0.  +0.j 0.  +0.j 0.  +0.j 0.  +0.j 0.  +0.j]\n",
      " [0.  +0.j 0.  +0.j 0.  +0.j 0.  +0.j 0.  +0.j 0.  +0.j 0.  +0.j 0.  +0.j]]\n"
     ]
    }
   ],
   "source": [
    "args = h_dict.copy()\n",
    "spin_par = []\n",
    "for qn, gam in zip(QUANTUM_NUMBERS, GAMMA_2PIS):\n",
    "    spin_par.append({'quantum number': qn, 'gamma/2pi': gam})\n",
    "\n",
    "args['spin_par'] = spin_par \n",
    "args['zeem_par'] = zeem_par\n",
    "spin, h_unperturbed, _ = sim.nuclear_system_setup(**args)\n",
    "\n",
    "#print(\"spin\")\n",
    "#print(spin)\n",
    "#print(\"h_unperturbed\")\n",
    "#print(h_unperturbed)\n",
    "#print(\"_\")\n",
    "#print(_)\n",
    "\n",
    "\n",
    "qs = qc.CompositeQubitSpace(3)\n",
    "\n",
    "# Construct the tensor product of the Hadamard gate and 2 identity operators\n",
    "had_id = qc.gate_tensor_product(qc.hadamard, qc.gate_tensor_pow(qc.identity, 2))\n",
    "\n",
    "corr_operator = CNOT_GATE * had_id\n",
    "\n",
    "\n",
    "if CORRELATED and MIXED: \n",
    "    state = op.canonical_density_matrix(h_unperturbed[0], 1e-4).full()\n",
    "    print(state)\n",
    "    corr = had_id.full() @ state @ qc.adjoint(had_id.full())\n",
    "\n",
    "    initial_dm_matrix = corr\n",
    "    \n",
    "elif MIXED: \n",
    "    initial_dm_matrix = op.canonical_density_matrix(h_unperturbed[0], 1e-4).full()\n",
    "    \n",
    "elif CORRELATED: \n",
    "    # Use state ket |111⟩\n",
    "    q = qs.basis_ket_from_indices([0, 0, 0])\n",
    "\n",
    "    # Create entanglement \n",
    "    corr_state = had_id(q)\n",
    "    initial_dm = corr_state.density_matrix\n",
    "    initial_dm_matrix = initial_dm.full()\n",
    "\n",
    "initial_dm = Qobj(initial_dm_matrix)\n",
    "\n",
    "print('H_unperturbed:')\n",
    "print(np.round(h_unperturbed[0].full(), 3))\n",
    "print('Initial density matrix:')\n",
    "print(np.round(initial_dm.full(), 3))"
   ]
  },
  {
   "cell_type": "markdown",
   "metadata": {},
   "source": [
    "### Simulation"
   ]
  },
  {
   "cell_type": "code",
   "execution_count": 11,
   "metadata": {},
   "outputs": [
    {
     "ename": "TypeError",
     "evalue": "incompatible dimensions [[[4, 2], [4, 2]], [[4, 2], [4, 2]]] and [[8], [8]]",
     "output_type": "error",
     "traceback": [
      "\u001b[0;31m---------------------------------------------------------------------------\u001b[0m",
      "\u001b[0;31mTypeError\u001b[0m                                 Traceback (most recent call last)",
      "Cell \u001b[0;32mIn[11], line 1\u001b[0m\n\u001b[0;32m----> 1\u001b[0m evolved_dm \u001b[38;5;241m=\u001b[39m \u001b[43msim\u001b[49m\u001b[38;5;241;43m.\u001b[39;49m\u001b[43mevolve\u001b[49m\u001b[43m(\u001b[49m\u001b[43mspin\u001b[49m\u001b[43m,\u001b[49m\u001b[43m \u001b[49m\u001b[43mh_unperturbed\u001b[49m\u001b[43m,\u001b[49m\u001b[43m \u001b[49m\u001b[43minitial_dm\u001b[49m\u001b[43m,\u001b[49m\u001b[43m \u001b[49m\n\u001b[1;32m      2\u001b[0m \u001b[43m\t\t\t\t\t\t\u001b[49m\u001b[43mmode\u001b[49m\u001b[38;5;241;43m=\u001b[39;49m\u001b[43mmode\u001b[49m\u001b[43m,\u001b[49m\u001b[43m \u001b[49m\u001b[43mn_points\u001b[49m\u001b[38;5;241;43m=\u001b[39;49m\u001b[38;5;241;43m60\u001b[39;49m\u001b[43m,\u001b[49m\u001b[43m \u001b[49m\u001b[43morder\u001b[49m\u001b[38;5;241;43m=\u001b[39;49m\u001b[38;5;241;43m1\u001b[39;49m\u001b[43m)\u001b[49m\n\u001b[1;32m      4\u001b[0m t, fid \u001b[38;5;241m=\u001b[39m sim\u001b[38;5;241m.\u001b[39mFID_signal(spin, h_unperturbed, evolved_dm, \n\u001b[1;32m      5\u001b[0m \t\t\t\t\t\tacquisition_time\u001b[38;5;241m=\u001b[39mACQUISITION_TIME, T2\u001b[38;5;241m=\u001b[39mT2)\n\u001b[1;32m      7\u001b[0m f, ft \u001b[38;5;241m=\u001b[39m sim\u001b[38;5;241m.\u001b[39mfourier_transform_signal(t, fid, \u001b[38;5;241m-\u001b[39m\u001b[38;5;241m1\u001b[39m, \u001b[38;5;241m1\u001b[39m)\n",
      "File \u001b[0;32m~/Documents/GitHub/PULSEE/src/pulsee/simulation.py:607\u001b[0m, in \u001b[0;36mevolve\u001b[0;34m(spin, h_unperturbed, dm_initial, solver, mode, evolution_time, picture, RRF_par, times, n_points, order, opts, return_allstates, display_progress)\u001b[0m\n\u001b[1;32m    603\u001b[0m \u001b[38;5;28;01mif\u001b[39;00m solver \u001b[38;5;241m==\u001b[39m mesolve \u001b[38;5;129;01mor\u001b[39;00m solver \u001b[38;5;241m==\u001b[39m \u001b[38;5;124m\"\u001b[39m\u001b[38;5;124mmesolve\u001b[39m\u001b[38;5;124m\"\u001b[39m:\n\u001b[1;32m    604\u001b[0m     \u001b[38;5;66;03m# Magnus expansion solver includes 2 pi factor in exponentiations;\u001b[39;00m\n\u001b[1;32m    605\u001b[0m     \u001b[38;5;66;03m# scale Hamiltonians by this factor for `mesolve` for consistency.\u001b[39;00m\n\u001b[1;32m    606\u001b[0m     h_scaled \u001b[38;5;241m=\u001b[39m multiply_by_2pi(h_unscaled)\n\u001b[0;32m--> 607\u001b[0m     result \u001b[38;5;241m=\u001b[39m \u001b[43mmesolve\u001b[49m\u001b[43m(\u001b[49m\u001b[43mh_scaled\u001b[49m\u001b[43m,\u001b[49m\u001b[43m \u001b[49m\u001b[43mQobj\u001b[49m\u001b[43m(\u001b[49m\u001b[43mdm_initial\u001b[49m\u001b[43m)\u001b[49m\u001b[43m,\u001b[49m\u001b[43m \u001b[49m\u001b[43mtimes\u001b[49m\u001b[43m,\u001b[49m\u001b[43m \u001b[49m\u001b[43moptions\u001b[49m\u001b[38;5;241;43m=\u001b[39;49m\u001b[43mopts\u001b[49m\u001b[43m,\u001b[49m\u001b[43m \u001b[49m\u001b[43mprogress_bar\u001b[49m\u001b[38;5;241;43m=\u001b[39;49m\u001b[43mdisplay_progress\u001b[49m\u001b[43m)\u001b[49m\n\u001b[1;32m    609\u001b[0m     \u001b[38;5;28;01mif\u001b[39;00m return_allstates:\n\u001b[1;32m    610\u001b[0m         \u001b[38;5;28;01mreturn\u001b[39;00m result\u001b[38;5;241m.\u001b[39mstates\n",
      "File \u001b[0;32m~/opt/anaconda3/envs/pulsee_env/lib/python3.11/site-packages/qutip/solver/mesolve.py:147\u001b[0m, in \u001b[0;36mmesolve\u001b[0;34m(H, rho0, tlist, c_ops, e_ops, args, options, **kwargs)\u001b[0m\n\u001b[1;32m    142\u001b[0m     \u001b[38;5;28;01mreturn\u001b[39;00m sesolve(H, rho0, tlist, e_ops\u001b[38;5;241m=\u001b[39me_ops, args\u001b[38;5;241m=\u001b[39margs,\n\u001b[1;32m    143\u001b[0m                    options\u001b[38;5;241m=\u001b[39moptions)\n\u001b[1;32m    145\u001b[0m solver \u001b[38;5;241m=\u001b[39m MESolver(H, c_ops, options\u001b[38;5;241m=\u001b[39moptions)\n\u001b[0;32m--> 147\u001b[0m \u001b[38;5;28;01mreturn\u001b[39;00m \u001b[43msolver\u001b[49m\u001b[38;5;241;43m.\u001b[39;49m\u001b[43mrun\u001b[49m\u001b[43m(\u001b[49m\u001b[43mrho0\u001b[49m\u001b[43m,\u001b[49m\u001b[43m \u001b[49m\u001b[43mtlist\u001b[49m\u001b[43m,\u001b[49m\u001b[43m \u001b[49m\u001b[43me_ops\u001b[49m\u001b[38;5;241;43m=\u001b[39;49m\u001b[43me_ops\u001b[49m\u001b[43m)\u001b[49m\n",
      "File \u001b[0;32m~/opt/anaconda3/envs/pulsee_env/lib/python3.11/site-packages/qutip/solver/solver_base.py:163\u001b[0m, in \u001b[0;36mSolver.run\u001b[0;34m(self, state0, tlist, args, e_ops)\u001b[0m\n\u001b[1;32m    129\u001b[0m \u001b[38;5;250m\u001b[39m\u001b[38;5;124;03m\"\"\"\u001b[39;00m\n\u001b[1;32m    130\u001b[0m \u001b[38;5;124;03mDo the evolution of the Quantum system.\u001b[39;00m\n\u001b[1;32m    131\u001b[0m \n\u001b[0;32m   (...)\u001b[0m\n\u001b[1;32m    160\u001b[0m \u001b[38;5;124;03m    can control the saved data in the options.\u001b[39;00m\n\u001b[1;32m    161\u001b[0m \u001b[38;5;124;03m\"\"\"\u001b[39;00m\n\u001b[1;32m    162\u001b[0m _time_start \u001b[38;5;241m=\u001b[39m time()\n\u001b[0;32m--> 163\u001b[0m _data0 \u001b[38;5;241m=\u001b[39m \u001b[38;5;28;43mself\u001b[39;49m\u001b[38;5;241;43m.\u001b[39;49m\u001b[43m_prepare_state\u001b[49m\u001b[43m(\u001b[49m\u001b[43mstate0\u001b[49m\u001b[43m)\u001b[49m\n\u001b[1;32m    164\u001b[0m \u001b[38;5;28mself\u001b[39m\u001b[38;5;241m.\u001b[39m_integrator\u001b[38;5;241m.\u001b[39mset_state(tlist[\u001b[38;5;241m0\u001b[39m], _data0)\n\u001b[1;32m    165\u001b[0m \u001b[38;5;28mself\u001b[39m\u001b[38;5;241m.\u001b[39m_argument(args)\n",
      "File \u001b[0;32m~/opt/anaconda3/envs/pulsee_env/lib/python3.11/site-packages/qutip/solver/solver_base.py:85\u001b[0m, in \u001b[0;36mSolver._prepare_state\u001b[0;34m(self, state)\u001b[0m\n\u001b[1;32m     79\u001b[0m     state \u001b[38;5;241m=\u001b[39m ket2dm(state)\n\u001b[1;32m     81\u001b[0m \u001b[38;5;28;01mif\u001b[39;00m (\n\u001b[1;32m     82\u001b[0m     \u001b[38;5;28mself\u001b[39m\u001b[38;5;241m.\u001b[39mrhs\u001b[38;5;241m.\u001b[39mdims[\u001b[38;5;241m1\u001b[39m] \u001b[38;5;241m!=\u001b[39m state\u001b[38;5;241m.\u001b[39mdims[\u001b[38;5;241m0\u001b[39m]\n\u001b[1;32m     83\u001b[0m     \u001b[38;5;129;01mand\u001b[39;00m \u001b[38;5;28mself\u001b[39m\u001b[38;5;241m.\u001b[39mrhs\u001b[38;5;241m.\u001b[39mdims[\u001b[38;5;241m1\u001b[39m] \u001b[38;5;241m!=\u001b[39m state\u001b[38;5;241m.\u001b[39mdims\n\u001b[1;32m     84\u001b[0m ):\n\u001b[0;32m---> 85\u001b[0m     \u001b[38;5;28;01mraise\u001b[39;00m \u001b[38;5;167;01mTypeError\u001b[39;00m(\u001b[38;5;124mf\u001b[39m\u001b[38;5;124m\"\u001b[39m\u001b[38;5;124mincompatible dimensions \u001b[39m\u001b[38;5;132;01m{\u001b[39;00m\u001b[38;5;28mself\u001b[39m\u001b[38;5;241m.\u001b[39mrhs\u001b[38;5;241m.\u001b[39mdims\u001b[38;5;132;01m}\u001b[39;00m\u001b[38;5;124m\"\u001b[39m\n\u001b[1;32m     86\u001b[0m                     \u001b[38;5;124mf\u001b[39m\u001b[38;5;124m\"\u001b[39m\u001b[38;5;124m and \u001b[39m\u001b[38;5;132;01m{\u001b[39;00mstate\u001b[38;5;241m.\u001b[39mdims\u001b[38;5;132;01m}\u001b[39;00m\u001b[38;5;124m\"\u001b[39m)\n\u001b[1;32m     88\u001b[0m \u001b[38;5;28mself\u001b[39m\u001b[38;5;241m.\u001b[39m_state_metadata \u001b[38;5;241m=\u001b[39m {\n\u001b[1;32m     89\u001b[0m     \u001b[38;5;124m'\u001b[39m\u001b[38;5;124mdims\u001b[39m\u001b[38;5;124m'\u001b[39m: state\u001b[38;5;241m.\u001b[39m_dims,\n\u001b[1;32m     90\u001b[0m     \u001b[38;5;66;03m# This is herm flag take for granted that the liouvillian keep\u001b[39;00m\n\u001b[0;32m   (...)\u001b[0m\n\u001b[1;32m     93\u001b[0m     \u001b[38;5;124m'\u001b[39m\u001b[38;5;124misherm\u001b[39m\u001b[38;5;124m'\u001b[39m: state\u001b[38;5;241m.\u001b[39misherm \u001b[38;5;129;01mand\u001b[39;00m \u001b[38;5;129;01mnot\u001b[39;00m (\u001b[38;5;28mself\u001b[39m\u001b[38;5;241m.\u001b[39mrhs\u001b[38;5;241m.\u001b[39mdims \u001b[38;5;241m==\u001b[39m state\u001b[38;5;241m.\u001b[39mdims)\n\u001b[1;32m     94\u001b[0m }\n\u001b[1;32m     95\u001b[0m \u001b[38;5;28;01mif\u001b[39;00m state\u001b[38;5;241m.\u001b[39misoper:\n",
      "\u001b[0;31mTypeError\u001b[0m: incompatible dimensions [[[4, 2], [4, 2]], [[4, 2], [4, 2]]] and [[8], [8]]"
     ]
    }
   ],
   "source": [
    "evolved_dm = sim.evolve(spin, h_unperturbed, initial_dm, \n",
    "\t\t\t\t\t\tmode=mode, n_points=60, order=1)\n",
    "\n",
    "t, fid = sim.FID_signal(spin, h_unperturbed, evolved_dm, \n",
    "\t\t\t\t\t\tacquisition_time=ACQUISITION_TIME, T2=T2)\n",
    "\t\t\t\t\t\t\n",
    "f, ft = sim.fourier_transform_signal(t, fid, -1, 1)"
   ]
  },
  {
   "cell_type": "markdown",
   "metadata": {},
   "source": [
    "Write simulation parameters and save plots to a directory. "
   ]
  },
  {
   "cell_type": "code",
   "execution_count": null,
   "metadata": {},
   "outputs": [],
   "source": [
    "import os \n",
    "import json \n",
    "import shutil\n",
    "\n",
    "sim_dir = None \n",
    "if SIM_NAME is not None: \n",
    "\tsim_dir = f'./simulation_results/{SIM_NAME}/'\n",
    "else:\n",
    "\ti = 1\n",
    "\twhile os.path.isdir(f'./simulation_results/sim_{i:04d}'):\n",
    "\t\ti += 1\n",
    "\n",
    "\tsim_dir = f'./simulation_results/sim_{i:04d}/'\n",
    "\n",
    "if os.path.isdir(sim_dir):\n",
    "\tshutil.rmtree(sim_dir)\n",
    "\n",
    "os.mkdir(sim_dir)\n",
    "\n",
    "# numpy ndarray can't be json serialized\n",
    "if 'h_tensor_inter' in h_dict.keys(): \n",
    "\th_dict['h_tensor_inter'] = h_dict['h_tensor_inter'].tolist()\n",
    "\n",
    "params = {\n",
    "\t'correlated_state': CORRELATED, \n",
    "\t'mixed': MIXED, \n",
    "\t'quantum_numbers': QUANTUM_NUMBERS, \n",
    "\t'gamma_2pis': GAMMA_2PIS, \n",
    "\t'B_0': B_0,\n",
    "\t'pulse_params': {\n",
    "\t\t'amplitude': 2 * B_1, \n",
    "\t\t'frequency': FREQ, \n",
    "\t\t'phase': PHASE, \n",
    "\t\t'theta_p': POLAR_B, \n",
    "\t\t'phi_p': AZIMUTHAL_B, \n",
    "\t\t'pulse_time': PULSE_TIME\n",
    "\t},\n",
    "\t'acquisition_time': ACQUISITION_TIME, \n",
    "\t't2': T2,\n",
    "\t'hamiltonian_args': h_dict\n",
    "}\n",
    "\n",
    "params_file = open(os.path.join(sim_dir, 'params.json'), 'w')\n",
    "json.dump(params, params_file, indent=4, separators=(',', ': '))\n",
    "params_file.close()\n",
    " \n",
    "np.savetxt(os.path.join(sim_dir, 'initial_dm.csv'),\n",
    "\t\t   initial_dm.matrix)\n",
    "\n",
    "np.savetxt(os.path.join(sim_dir, 'evolved_dm.csv'),\n",
    "\t\t   evolved_dm.matrix)\n",
    "\n",
    "np.savetxt(os.path.join(sim_dir, 't_fid_data.csv'), \n",
    "\t\t   np.transpose(np.array([t, fid])),\n",
    "\t\t   delimiter=',', \n",
    "\t\t   header='t,fid')\n",
    "\t\t   \n",
    "np.savetxt(os.path.join(sim_dir, 'f_ft_data.csv'),\n",
    "\t\t   np.transpose(np.array([f, ft])),\n",
    "\t\t   delimiter=',',\n",
    "\t\t   header='f,ft')\n",
    "\n",
    "psplt.plot_real_part_density_matrix(initial_dm, \n",
    "\t\t\t\t\t\t\t\t  save=True, \n",
    "\t\t\t\t\t\t\t\t  destination=sim_dir,\n",
    "\t\t\t\t\t\t\t\t  name=\"InitialRealPartDensityMatrix\",\n",
    "\t\t\t\t\t\t\t\t  many_spin_indexing=[2, 2])\n",
    "psplt.plot_real_part_density_matrix(evolved_dm,\n",
    "\t\t\t\t\t\t\t\t  save=True, \n",
    "\t\t\t\t\t\t\t\t  destination=sim_dir,\n",
    "\t\t\t\t\t\t\t\t  name=\"EvolvedRealPartDensityMatrix\", \n",
    "\t\t\t\t\t\t\t\t  many_spin_indexing=[2, 2])\n",
    "psplt.plot_real_part_FID_signal(t, fid, save=True, destination=sim_dir)\n",
    "_ = psplt.plot_fourier_transform(f, np.abs(ft) ** 2, save=True, destination=sim_dir)\n"
   ]
  },
  {
   "cell_type": "markdown",
   "metadata": {},
   "source": []
  }
 ],
 "metadata": {
  "kernelspec": {
   "display_name": "pulsee_env",
   "language": "python",
   "name": "pulsee_env"
  },
  "language_info": {
   "codemirror_mode": {
    "name": "ipython",
    "version": 3
   },
   "file_extension": ".py",
   "mimetype": "text/x-python",
   "name": "python",
   "nbconvert_exporter": "python",
   "pygments_lexer": "ipython3",
   "version": "3.11.9"
  },
  "vscode": {
   "interpreter": {
    "hash": "565e6eaeafdc1c625e35cccb1ad055e9f752b1af38a6fa1f2bda6606bd3ed34f"
   }
  }
 },
 "nbformat": 4,
 "nbformat_minor": 4
}
