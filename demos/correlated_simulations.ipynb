{
 "cells": [
  {
   "cell_type": "markdown",
   "metadata": {},
   "source": [
    "### Imports, Simulation Setup"
   ]
  },
  {
   "cell_type": "code",
   "execution_count": 1,
   "metadata": {},
   "outputs": [],
   "source": [
    "import numpy as np \n",
    "import pandas as pd\n",
    "import qutip as qt\n",
    "from pulsee import simulation as sim, quantum_computing as qc, operators as op \n",
    "#from pulsee.many_body import tensor_product"
   ]
  },
  {
   "cell_type": "code",
   "execution_count": 9,
   "metadata": {},
   "outputs": [
    {
     "name": "stdout",
     "output_type": "stream",
     "text": [
      "Quantum object: dims = [[2], [2]], shape = (2, 2), type = oper, isherm = True\n",
      "Qobj data =\n",
      "[[ 1.  0.]\n",
      " [ 0. -1.]]\n"
     ]
    }
   ],
   "source": [
    "Iz = qt.operators.sigmaz()\n",
    "print(Iz)"
   ]
  },
  {
   "cell_type": "code",
   "execution_count": 3,
   "metadata": {},
   "outputs": [],
   "source": [
    "SIM_NAME = \"/test/11uncorrelated_mixed_no_interactions\""
   ]
  },
  {
   "cell_type": "markdown",
   "metadata": {},
   "source": [
    "### Quantum System Setup\n",
    "Spin-$\\frac{1}{2}$ system with $\\gamma/2\\pi = 4.00$ MHz/T (see Candoli thesis §4.1) and $B_0 = 10$ T:"
   ]
  },
  {
   "cell_type": "code",
   "execution_count": 4,
   "metadata": {},
   "outputs": [],
   "source": [
    "CORRELATED = True\n",
    "MIXED = True\n",
    "QUANTUM_NUMBERS = [1.5, 0.5] \n",
    "GAMMA_2PIS = [4.00, 0] \n",
    "B_0 = 10\n",
    "# one control qubit (cnotnot) or two control qubits (toffoli)\n",
    "CNOT_GATE = qc.toffoli \n",
    "\n",
    "zeem_par = {'field magnitude' : B_0,\n",
    "                'theta_z' : 0,\n",
    "                'phi_z' : 0}"
   ]
  },
  {
   "cell_type": "markdown",
   "metadata": {},
   "source": [
    "### Pulse\n",
    "Set up single mode pulse of form \n",
    "$$\\mathbf{B}_1(t) = 2 B_1 \\cos(2\\pi \\nu + \\delta)\\cdot \\hat{\\mathbf{n}}(\\theta, \\phi)$$\n",
    "where $\\theta$ and $\\phi$ are the polar and azimuthal angles respectively. $B_1$ in T, $\\nu$ in MHz, $\\delta$, $\\phi$, and $\\theta$ in radians. TODO: $\\nu$ depends on $e^2 q Q $ and $\\eta$? What is $\\eta$? Why?\n",
    "\n",
    "For simplest case apply $\\pi/2$ pulse with $B_1 = B_0 / 100 $, $ \\nu = (\\gamma/2\\pi) \\cdot B_0 $, $\\delta = \\phi =0$, $\\theta=\\pi/2$."
   ]
  },
  {
   "cell_type": "code",
   "execution_count": 5,
   "metadata": {},
   "outputs": [],
   "source": [
    "B_1 = B_0 / 100\n",
    "FREQ = GAMMA_2PIS[0] * B_0\n",
    "PHASE = 0\n",
    "POLAR_B = np.pi / 2 \n",
    "AZIMUTHAL_B = 0 \n",
    "PULSE_TIME = 1 / (4 * FREQ)\n",
    "mode = pd.DataFrame([(FREQ, 2 * B_1, PHASE, POLAR_B, AZIMUTHAL_B)],\n",
    "\t\t\t\t\tcolumns=['frequency', 'amplitude', 'phase', 'theta_p', 'phi_p'])"
   ]
  },
  {
   "cell_type": "markdown",
   "metadata": {},
   "source": [
    "### Experiment Settings"
   ]
  },
  {
   "cell_type": "code",
   "execution_count": 6,
   "metadata": {},
   "outputs": [],
   "source": [
    "ACQUISITION_TIME = 1000 # in microseconds\n",
    "T2 = 100"
   ]
  },
  {
   "cell_type": "markdown",
   "metadata": {},
   "source": [
    "### Hamiltonians\n",
    "Here we add the desired Hamiltonian interaction terms. Add these to the following dictionary `args` with key as it appears in `nuclear_system_setup` function. The value should be the parameters of the associated Hamiltonian as it appears in `nuclear_system_setup`."
   ]
  },
  {
   "cell_type": "code",
   "execution_count": 7,
   "metadata": {},
   "outputs": [],
   "source": [
    "h_dict = {\n",
    "}"
   ]
  },
  {
   "cell_type": "markdown",
   "metadata": {},
   "source": [
    "### Density Matrix Setup \n",
    "If `CORRELATED` start with qubit $\\ket{111}$ so that in the case of \n",
    "Toffoli (CCNOT) the second control qubit leads to negation of last qubit. \n",
    "Before applying CCNOT or CNOTNOT apply Hadamard to first qubit to create \n",
    "superposition. "
   ]
  },
  {
   "cell_type": "code",
   "execution_count": 10,
   "metadata": {},
   "outputs": [
    {
     "name": "stdout",
     "output_type": "stream",
     "text": [
      "[Quantum object: dims = [[4, 2], [4, 2]], shape = (8, 8), type = oper, isherm = True\n",
      "Qobj data =\n",
      "[[-60.   0.   0.   0.   0.   0.   0.   0.]\n",
      " [  0. -60.   0.   0.   0.   0.   0.   0.]\n",
      " [  0.   0. -20.   0.   0.   0.   0.   0.]\n",
      " [  0.   0.   0. -20.   0.   0.   0.   0.]\n",
      " [  0.   0.   0.   0.  20.   0.   0.   0.]\n",
      " [  0.   0.   0.   0.   0.  20.   0.   0.]\n",
      " [  0.   0.   0.   0.   0.   0.  60.   0.]\n",
      " [  0.   0.   0.   0.   0.   0.   0.  60.]], Quantum object: dims = [[4, 2], [4, 2]], shape = (8, 8), type = oper, isherm = True\n",
      "Qobj data =\n",
      "[[0. 0. 0. 0. 0. 0. 0. 0.]\n",
      " [0. 0. 0. 0. 0. 0. 0. 0.]\n",
      " [0. 0. 0. 0. 0. 0. 0. 0.]\n",
      " [0. 0. 0. 0. 0. 0. 0. 0.]\n",
      " [0. 0. 0. 0. 0. 0. 0. 0.]\n",
      " [0. 0. 0. 0. 0. 0. 0. 0.]\n",
      " [0. 0. 0. 0. 0. 0. 0. 0.]\n",
      " [0. 0. 0. 0. 0. 0. 0. 0.]]]\n"
     ]
    },
    {
     "ename": "TypeError",
     "evalue": "can't multiply sequence by non-int of type 'float'",
     "output_type": "error",
     "traceback": [
      "\u001b[0;31m---------------------------------------------------------------------------\u001b[0m",
      "\u001b[0;31mTypeError\u001b[0m                                 Traceback (most recent call last)",
      "Cell \u001b[0;32mIn[10], line 21\u001b[0m\n\u001b[1;32m     17\u001b[0m corr_operator \u001b[38;5;241m=\u001b[39m CNOT_GATE \u001b[38;5;241m*\u001b[39m had_id\n\u001b[1;32m     20\u001b[0m \u001b[38;5;28;01mif\u001b[39;00m CORRELATED \u001b[38;5;129;01mand\u001b[39;00m MIXED: \n\u001b[0;32m---> 21\u001b[0m     state \u001b[38;5;241m=\u001b[39m \u001b[43mop\u001b[49m\u001b[38;5;241;43m.\u001b[39;49m\u001b[43mcanonical_density_matrix\u001b[49m\u001b[43m(\u001b[49m\u001b[43mh_unperturbed\u001b[49m\u001b[43m,\u001b[49m\u001b[43m \u001b[49m\u001b[38;5;241;43m1e-4\u001b[39;49m\u001b[43m)\u001b[49m\u001b[38;5;241m.\u001b[39mmatrix\n\u001b[1;32m     22\u001b[0m     \u001b[38;5;28mprint\u001b[39m(state)\n\u001b[1;32m     23\u001b[0m     corr \u001b[38;5;241m=\u001b[39m had_id\u001b[38;5;241m.\u001b[39mmatrix \u001b[38;5;241m@\u001b[39m state \u001b[38;5;241m@\u001b[39m qc\u001b[38;5;241m.\u001b[39madjoint(had_id\u001b[38;5;241m.\u001b[39mmatrix)\n",
      "File \u001b[0;32m~/Documents/GitHub/PULSEE/src/pulsee/operators.py:200\u001b[0m, in \u001b[0;36mcanonical_density_matrix\u001b[0;34m(hamiltonian, temperature)\u001b[0m\n\u001b[1;32m    197\u001b[0m \u001b[38;5;28;01mif\u001b[39;00m temperature \u001b[38;5;241m<\u001b[39m\u001b[38;5;241m=\u001b[39m \u001b[38;5;241m0\u001b[39m:\n\u001b[1;32m    198\u001b[0m     \u001b[38;5;28;01mraise\u001b[39;00m \u001b[38;5;167;01mValueError\u001b[39;00m(\u001b[38;5;124m\"\u001b[39m\u001b[38;5;124mThe temperature must take a positive value\u001b[39m\u001b[38;5;124m\"\u001b[39m)\n\u001b[0;32m--> 200\u001b[0m exponent \u001b[38;5;241m=\u001b[39m \u001b[38;5;241;43m-\u001b[39;49m\u001b[43m \u001b[49m\u001b[43m(\u001b[49m\u001b[43mPlanck\u001b[49m\u001b[43m \u001b[49m\u001b[38;5;241;43m/\u001b[39;49m\u001b[43m \u001b[49m\u001b[43mBoltzmann\u001b[49m\u001b[43m)\u001b[49m\u001b[43m \u001b[49m\u001b[38;5;241;43m*\u001b[39;49m\u001b[43m \u001b[49m\u001b[43mhamiltonian\u001b[49m \u001b[38;5;241m*\u001b[39m \u001b[38;5;241m2\u001b[39m \u001b[38;5;241m*\u001b[39m np\u001b[38;5;241m.\u001b[39mpi \u001b[38;5;241m*\u001b[39m \u001b[38;5;241m1e6\u001b[39m \u001b[38;5;241m/\u001b[39m temperature\n\u001b[1;32m    201\u001b[0m numerator \u001b[38;5;241m=\u001b[39m exponent\u001b[38;5;241m.\u001b[39mexpm()\n\u001b[1;32m    202\u001b[0m \u001b[38;5;28;01mtry\u001b[39;00m:\n",
      "\u001b[0;31mTypeError\u001b[0m: can't multiply sequence by non-int of type 'float'"
     ]
    }
   ],
   "source": [
    "\n",
    "args = h_dict.copy()\n",
    "spin_par = []\n",
    "for qn, gam in zip(QUANTUM_NUMBERS, GAMMA_2PIS):\n",
    "    spin_par.append({'quantum number': qn, 'gamma/2pi': gam})\n",
    "\n",
    "args['spin_par'] = spin_par \n",
    "args['zeem_par'] = zeem_par\n",
    "spin, h_unperturbed, _ = sim.nuclear_system_setup(**args)\n",
    "\n",
    "print(h_unperturbed)\n",
    "\n",
    "qs = qc.CompositeQubitSpace(3)\n",
    "\n",
    "# Construct the tensor product of the Hadamard gate and 2 identity operators\n",
    "had_id = qc.gate_tensor_product(qc.hadamard, qc.gate_tensor_pow(qc.identity, 2))\n",
    "\n",
    "corr_operator = CNOT_GATE * had_id\n",
    "\n",
    "\n",
    "if CORRELATED and MIXED: \n",
    "    state = op.canonical_density_matrix(h_unperturbed, 1e-4).matrix\n",
    "    print(state)\n",
    "    corr = had_id.matrix @ state @ qc.adjoint(had_id.matrix)\n",
    "\n",
    "    initial_dm_matrix = corr\n",
    "    \n",
    "elif MIXED: \n",
    "    initial_dm_matrix = op.canonical_density_matrix(h_unperturbed, 1e-4).matrix\n",
    "    \n",
    "elif CORRELATED: \n",
    "    # Use state ket |111⟩\n",
    "    q = qs.basis_ket_from_indices([0, 0, 0])\n",
    "\n",
    "    # Create entanglement \n",
    "    corr_state = had_id(q)\n",
    "    initial_dm = corr_state.density_matrix\n",
    "    initial_dm_matrix = initial_dm.matrix\n",
    "\n",
    "initial_dm = op.Operator(initial_dm_matrix)\n",
    "\n",
    "print('H_unperturbed:')\n",
    "print(np.round(h_unperturbed.matrix, 3))\n",
    "print('Initial density matrix:')\n",
    "print(np.round(initial_dm.matrix, 3))"
   ]
  },
  {
   "cell_type": "markdown",
   "metadata": {},
   "source": [
    "### Simulation"
   ]
  },
  {
   "cell_type": "code",
   "execution_count": null,
   "metadata": {},
   "outputs": [],
   "source": [
    "evolved_dm = sim.evolve(spin, h_unperturbed, initial_dm, \n",
    "\t\t\t\t\t\tmode=mode, pulse_time=PULSE_TIME)\n",
    "\n",
    "t, fid = sim.FID_signal(spin, h_unperturbed, evolved_dm, \n",
    "\t\t\t\t\t\tacquisition_time=ACQUISITION_TIME, T2=T2)\n",
    "\t\t\t\t\t\t\n",
    "f, ft = sim.fourier_transform_signal(t, fid, -1, 1)"
   ]
  },
  {
   "cell_type": "markdown",
   "metadata": {},
   "source": [
    "Write simulation parameters and save plots to a directory. "
   ]
  },
  {
   "cell_type": "code",
   "execution_count": null,
   "metadata": {},
   "outputs": [],
   "source": [
    "import os \n",
    "import json \n",
    "import shutil\n",
    "\n",
    "sim_dir = None \n",
    "if SIM_NAME is not None: \n",
    "\tsim_dir = f'./simulation_results/{SIM_NAME}/'\n",
    "else:\n",
    "\ti = 1\n",
    "\twhile os.path.isdir(f'./simulation_results/sim_{i:04d}'):\n",
    "\t\ti += 1\n",
    "\n",
    "\tsim_dir = f'./simulation_results/sim_{i:04d}/'\n",
    "\n",
    "if os.path.isdir(sim_dir):\n",
    "\tshutil.rmtree(sim_dir)\n",
    "\n",
    "os.mkdir(sim_dir)\n",
    "\n",
    "# numpy ndarray can't be json serialized\n",
    "if 'h_tensor_inter' in h_dict.keys(): \n",
    "\th_dict['h_tensor_inter'] = h_dict['h_tensor_inter'].tolist()\n",
    "\n",
    "params = {\n",
    "\t'correlated_state': CORRELATED, \n",
    "\t'mixed': MIXED, \n",
    "\t'quantum_numbers': QUANTUM_NUMBERS, \n",
    "\t'gamma_2pis': GAMMA_2PIS, \n",
    "\t'B_0': B_0,\n",
    "\t'pulse_params': {\n",
    "\t\t'amplitude': 2 * B_1, \n",
    "\t\t'frequency': FREQ, \n",
    "\t\t'phase': PHASE, \n",
    "\t\t'theta_p': POLAR_B, \n",
    "\t\t'phi_p': AZIMUTHAL_B, \n",
    "\t\t'pulse_time': PULSE_TIME\n",
    "\t},\n",
    "\t'acquisition_time': ACQUISITION_TIME, \n",
    "\t't2': T2,\n",
    "\t'hamiltonian_args': h_dict\n",
    "}\n",
    "\n",
    "params_file = open(os.path.join(sim_dir, 'params.json'), 'w')\n",
    "json.dump(params, params_file, indent=4, separators=(',', ': '))\n",
    "params_file.close()\n",
    " \n",
    "np.savetxt(os.path.join(sim_dir, 'initial_dm.csv'),\n",
    "\t\t   initial_dm.matrix)\n",
    "\n",
    "np.savetxt(os.path.join(sim_dir, 'evolved_dm.csv'),\n",
    "\t\t   evolved_dm.matrix)\n",
    "\n",
    "np.savetxt(os.path.join(sim_dir, 't_fid_data.csv'), \n",
    "\t\t   np.transpose(np.array([t, fid])),\n",
    "\t\t   delimiter=',', \n",
    "\t\t   header='t,fid')\n",
    "\t\t   \n",
    "np.savetxt(os.path.join(sim_dir, 'f_ft_data.csv'),\n",
    "\t\t   np.transpose(np.array([f, ft])),\n",
    "\t\t   delimiter=',',\n",
    "\t\t   header='f,ft')\n",
    "\n",
    "psplt.plot_real_part_density_matrix(initial_dm, \n",
    "\t\t\t\t\t\t\t\t  save=True, \n",
    "\t\t\t\t\t\t\t\t  destination=sim_dir,\n",
    "\t\t\t\t\t\t\t\t  name=\"InitialRealPartDensityMatrix\",\n",
    "\t\t\t\t\t\t\t\t  many_spin_indexing=[2, 2])\n",
    "psplt.plot_real_part_density_matrix(evolved_dm,\n",
    "\t\t\t\t\t\t\t\t  save=True, \n",
    "\t\t\t\t\t\t\t\t  destination=sim_dir,\n",
    "\t\t\t\t\t\t\t\t  name=\"EvolvedRealPartDensityMatrix\", \n",
    "\t\t\t\t\t\t\t\t  many_spin_indexing=[2, 2])\n",
    "psplt.plot_real_part_FID_signal(t, fid, save=True, destination=sim_dir)\n",
    "_ = psplt.plot_fourier_transform(f, np.abs(ft) ** 2, save=True, destination=sim_dir)\n"
   ]
  },
  {
   "cell_type": "markdown",
   "metadata": {},
   "source": []
  }
 ],
 "metadata": {
  "kernelspec": {
   "display_name": "Python 3 (ipykernel)",
   "language": "python",
   "name": "python3"
  },
  "language_info": {
   "codemirror_mode": {
    "name": "ipython",
    "version": 3
   },
   "file_extension": ".py",
   "mimetype": "text/x-python",
   "name": "python",
   "nbconvert_exporter": "python",
   "pygments_lexer": "ipython3",
   "version": "3.11.6"
  },
  "vscode": {
   "interpreter": {
    "hash": "565e6eaeafdc1c625e35cccb1ad055e9f752b1af38a6fa1f2bda6606bd3ed34f"
   }
  }
 },
 "nbformat": 4,
 "nbformat_minor": 4
}
