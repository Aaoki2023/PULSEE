{
 "cells": [
  {
   "cell_type": "code",
   "execution_count": 1,
   "metadata": {},
   "outputs": [],
   "source": [
    "import numpy as np \n",
    "import pandas as pd \n",
    "from qutip import tensor, Qobj\n",
    "from pulsee import simulation as sim \n",
    "import matplotlib.pyplot as plt\n"
   ]
  },
  {
   "cell_type": "code",
   "execution_count": 2,
   "metadata": {},
   "outputs": [],
   "source": [
    "\n",
    "quantum_numbers = [1/2]\n",
    "gamma_2pis = [0.50]\n",
    "b_0 = 10\n",
    "zeem_par = {'field magnitude': b_0, 'theta_z': 0, 'phi_z': 0}\n",
    "b_1 = b_0 / 10\n",
    "freq = gamma_2pis[0] * b_0\n",
    "phase = 0 \n",
    "polar_b = np.pi / 2\n",
    "azimuthal_b = 0 \n",
    "pulse_time = 2 * np.pi / (gamma_2pis[0] * b_1)\n",
    "\n",
    "mode = pd.DataFrame([(freq,        b_1,         phase,   polar_b,   azimuthal_b)],\n",
    "\t\t    columns=['frequency', 'amplitude', 'phase', 'theta_p', 'phi_p'])\n",
    "\n",
    "acq_time = 100 # ms \n",
    "t2 = 10\n",
    "\n",
    "spin_par = [] \n",
    "for qn, gam in zip(quantum_numbers, gamma_2pis):\n",
    "    spin_par.append({'quantum number': qn, 'gamma/2pi': gam})\n",
    "\n",
    "args = {}\n",
    "args['zeem_par'] = zeem_par\n",
    "args['spin_par'] = spin_par\n"
   ]
  },
  {
   "cell_type": "code",
   "execution_count": 3,
   "metadata": {},
   "outputs": [
    {
     "name": "stderr",
     "output_type": "stream",
     "text": [
      "/Users/lzawbrito/miniforge3/envs/pulsee/lib/python3.8/site-packages/scipy/integrate/_ode.py:1013: UserWarning: zvode: Excess work done on this call. (Perhaps wrong MF.)\n",
      "  warnings.warn('{:s}: {:s}'.format(self.__class__.__name__,\n"
     ]
    },
    {
     "ename": "Exception",
     "evalue": "ODE integration error: Try to increase the allowed number of substeps by increasing the nsteps parameter in the Options class.",
     "output_type": "error",
     "traceback": [
      "\u001b[0;31m---------------------------------------------------------------------------\u001b[0m",
      "\u001b[0;31mException\u001b[0m                                 Traceback (most recent call last)",
      "\u001b[1;32m/Users/lzawbrito/projects/PULSEE/demos/qutip_integration_demo.ipynb Cell 3'\u001b[0m in \u001b[0;36m<cell line: 3>\u001b[0;34m()\u001b[0m\n\u001b[1;32m      <a href='vscode-notebook-cell:/Users/lzawbrito/projects/PULSEE/demos/qutip_integration_demo.ipynb#ch0000002?line=0'>1</a>\u001b[0m spin, h_unperturbed, _ \u001b[39m=\u001b[39m sim\u001b[39m.\u001b[39mnuclear_system_setup(\u001b[39m*\u001b[39m\u001b[39m*\u001b[39margs)\n\u001b[1;32m      <a href='vscode-notebook-cell:/Users/lzawbrito/projects/PULSEE/demos/qutip_integration_demo.ipynb#ch0000002?line=1'>2</a>\u001b[0m initial_dm \u001b[39m=\u001b[39m Qobj([[\u001b[39m1\u001b[39m, \u001b[39m0\u001b[39m], [\u001b[39m0\u001b[39m, \u001b[39m0\u001b[39m]]) \u001b[39m# ensemble initially in spin up \u001b[39;00m\n\u001b[0;32m----> <a href='vscode-notebook-cell:/Users/lzawbrito/projects/PULSEE/demos/qutip_integration_demo.ipynb#ch0000002?line=2'>3</a>\u001b[0m evolved_dm \u001b[39m=\u001b[39m sim\u001b[39m.\u001b[39;49mevolve(spin, h_unperturbed, initial_dm, mode\u001b[39m=\u001b[39;49mmode, pulse_time\u001b[39m=\u001b[39;49mpulse_time)\n\u001b[1;32m      <a href='vscode-notebook-cell:/Users/lzawbrito/projects/PULSEE/demos/qutip_integration_demo.ipynb#ch0000002?line=3'>4</a>\u001b[0m np\u001b[39m.\u001b[39mround(evolved_dm\u001b[39m.\u001b[39mfull(), decimals\u001b[39m=\u001b[39m\u001b[39m1\u001b[39m)\n",
      "File \u001b[0;32m~/projects/PULSEE/src/pulsee/simulation.py:602\u001b[0m, in \u001b[0;36mevolve\u001b[0;34m(spin, h_unperturbed, dm_initial, solver, mode, pulse_time, picture, RRF_par, n_points, order)\u001b[0m\n\u001b[1;32m    <a href='file:///Users/lzawbrito/projects/PULSEE/src/pulsee/simulation.py?line=599'>600</a>\u001b[0m     dm_evolved \u001b[39m=\u001b[39m changed_picture(result\u001b[39m.\u001b[39mstates[\u001b[39m-\u001b[39m\u001b[39m1\u001b[39m], o_change_of_picture, times[\u001b[39m-\u001b[39m\u001b[39m1\u001b[39m] \u001b[39m-\u001b[39m times[\u001b[39m0\u001b[39m], invert\u001b[39m=\u001b[39m\u001b[39mTrue\u001b[39;00m)\n\u001b[1;32m    <a href='file:///Users/lzawbrito/projects/PULSEE/src/pulsee/simulation.py?line=600'>601</a>\u001b[0m \u001b[39melse\u001b[39;00m: \n\u001b[0;32m--> <a href='file:///Users/lzawbrito/projects/PULSEE/src/pulsee/simulation.py?line=601'>602</a>\u001b[0m     result \u001b[39m=\u001b[39m solver(h, Qobj(dm_initial), times, options\u001b[39m=\u001b[39;49mopts)\n\u001b[1;32m    <a href='file:///Users/lzawbrito/projects/PULSEE/src/pulsee/simulation.py?line=602'>603</a>\u001b[0m final_state \u001b[39m=\u001b[39m result\u001b[39m.\u001b[39mstates[\u001b[39m-\u001b[39m\u001b[39m1\u001b[39m]\n\u001b[1;32m    <a href='file:///Users/lzawbrito/projects/PULSEE/src/pulsee/simulation.py?line=603'>604</a>\u001b[0m \u001b[39mreturn\u001b[39;00m final_state\n",
      "File \u001b[0;32m~/miniforge3/envs/pulsee/lib/python3.8/site-packages/qutip/mesolve.py:244\u001b[0m, in \u001b[0;36mmesolve\u001b[0;34m(H, rho0, tlist, c_ops, e_ops, args, options, progress_bar, _safe_mode)\u001b[0m\n\u001b[1;32m    <a href='file:///Users/lzawbrito/miniforge3/envs/pulsee/lib/python3.8/site-packages/qutip/mesolve.py?line=240'>241</a>\u001b[0m     v \u001b[39m=\u001b[39m rho0\u001b[39m.\u001b[39mfull()\u001b[39m.\u001b[39mravel(\u001b[39m'\u001b[39m\u001b[39mF\u001b[39m\u001b[39m'\u001b[39m)\n\u001b[1;32m    <a href='file:///Users/lzawbrito/miniforge3/envs/pulsee/lib/python3.8/site-packages/qutip/mesolve.py?line=241'>242</a>\u001b[0m     func(\u001b[39m0.\u001b[39m, v, \u001b[39m*\u001b[39mode_args) \u001b[39m+\u001b[39m v\n\u001b[0;32m--> <a href='file:///Users/lzawbrito/miniforge3/envs/pulsee/lib/python3.8/site-packages/qutip/mesolve.py?line=243'>244</a>\u001b[0m res \u001b[39m=\u001b[39m _generic_ode_solve(func, ode_args, rho0, tlist, e_ops, options,\n\u001b[1;32m    <a href='file:///Users/lzawbrito/miniforge3/envs/pulsee/lib/python3.8/site-packages/qutip/mesolve.py?line=244'>245</a>\u001b[0m                          progress_bar, dims\u001b[39m=\u001b[39;49mrho0\u001b[39m.\u001b[39;49mdims)\n\u001b[1;32m    <a href='file:///Users/lzawbrito/miniforge3/envs/pulsee/lib/python3.8/site-packages/qutip/mesolve.py?line=245'>246</a>\u001b[0m res\u001b[39m.\u001b[39mnum_collapse \u001b[39m=\u001b[39m \u001b[39mlen\u001b[39m(c_ops)\n\u001b[1;32m    <a href='file:///Users/lzawbrito/miniforge3/envs/pulsee/lib/python3.8/site-packages/qutip/mesolve.py?line=247'>248</a>\u001b[0m \u001b[39mif\u001b[39;00m e_ops_dict:\n",
      "File \u001b[0;32m~/miniforge3/envs/pulsee/lib/python3.8/site-packages/qutip/mesolve.py:496\u001b[0m, in \u001b[0;36m_generic_ode_solve\u001b[0;34m(func, ode_args, rho0, tlist, e_ops, opt, progress_bar, dims)\u001b[0m\n\u001b[1;32m    <a href='file:///Users/lzawbrito/miniforge3/envs/pulsee/lib/python3.8/site-packages/qutip/mesolve.py?line=492'>493</a>\u001b[0m progress_bar\u001b[39m.\u001b[39mupdate(t_idx)\n\u001b[1;32m    <a href='file:///Users/lzawbrito/miniforge3/envs/pulsee/lib/python3.8/site-packages/qutip/mesolve.py?line=494'>495</a>\u001b[0m \u001b[39mif\u001b[39;00m \u001b[39mnot\u001b[39;00m r\u001b[39m.\u001b[39msuccessful():\n\u001b[0;32m--> <a href='file:///Users/lzawbrito/miniforge3/envs/pulsee/lib/python3.8/site-packages/qutip/mesolve.py?line=495'>496</a>\u001b[0m     \u001b[39mraise\u001b[39;00m \u001b[39mException\u001b[39;00m(\u001b[39m\"\u001b[39m\u001b[39mODE integration error: Try to increase \u001b[39m\u001b[39m\"\u001b[39m\n\u001b[1;32m    <a href='file:///Users/lzawbrito/miniforge3/envs/pulsee/lib/python3.8/site-packages/qutip/mesolve.py?line=496'>497</a>\u001b[0m                     \u001b[39m\"\u001b[39m\u001b[39mthe allowed number of substeps by increasing \u001b[39m\u001b[39m\"\u001b[39m\n\u001b[1;32m    <a href='file:///Users/lzawbrito/miniforge3/envs/pulsee/lib/python3.8/site-packages/qutip/mesolve.py?line=497'>498</a>\u001b[0m                     \u001b[39m\"\u001b[39m\u001b[39mthe nsteps parameter in the Options class.\u001b[39m\u001b[39m\"\u001b[39m)\n\u001b[1;32m    <a href='file:///Users/lzawbrito/miniforge3/envs/pulsee/lib/python3.8/site-packages/qutip/mesolve.py?line=499'>500</a>\u001b[0m \u001b[39mif\u001b[39;00m opt\u001b[39m.\u001b[39mstore_states \u001b[39mor\u001b[39;00m expt_callback:\n\u001b[1;32m    <a href='file:///Users/lzawbrito/miniforge3/envs/pulsee/lib/python3.8/site-packages/qutip/mesolve.py?line=500'>501</a>\u001b[0m     cdata \u001b[39m=\u001b[39m get_curr_state_data(r)\n",
      "\u001b[0;31mException\u001b[0m: ODE integration error: Try to increase the allowed number of substeps by increasing the nsteps parameter in the Options class."
     ]
    }
   ],
   "source": [
    "spin, h_unperturbed, _ = sim.nuclear_system_setup(**args)\n",
    "initial_dm = Qobj([[1, 0], [0, 0]]) # ensemble initially in spin up \n",
    "evolved_dm = sim.evolve(spin, h_unperturbed, initial_dm, mode=mode, pulse_time=pulse_time)\n",
    "np.round(evolved_dm.full(), decimals=1)\n"
   ]
  },
  {
   "cell_type": "code",
   "execution_count": 4,
   "metadata": {},
   "outputs": [],
   "source": [
    "t, fid = sim.FID_signal(spin, h_unperturbed, evolved_dm, acquisition_time=acq_time, T2=t2)"
   ]
  },
  {
   "cell_type": "code",
   "execution_count": 5,
   "metadata": {},
   "outputs": [],
   "source": [
    "f, ft = sim.fourier_transform_signal(fid, t)"
   ]
  },
  {
   "cell_type": "code",
   "execution_count": 6,
   "metadata": {},
   "outputs": [
    {
     "name": "stderr",
     "output_type": "stream",
     "text": [
      "/Users/lzawbrito/miniforge3/envs/pulsee/lib/python3.8/site-packages/matplotlib/cbook/__init__.py:1298: ComplexWarning: Casting complex values to real discards the imaginary part\n",
      "  return np.asarray(x, float)\n"
     ]
    },
    {
     "data": {
      "text/plain": [
       "(-10.0, 10.0)"
      ]
     },
     "execution_count": 6,
     "metadata": {},
     "output_type": "execute_result"
    },
    {
     "data": {
      "image/png": "[encoded data removed]",
      "text/plain": [
       "<Figure size 432x288 with 1 Axes>"
      ]
     },
     "metadata": {
      "needs_background": "light"
     },
     "output_type": "display_data"
    }
   ],
   "source": [
    "fig, ax = plt.subplots() \n",
    "ax.plot(f, ft)\n",
    "ax.set_xlim(-10, 10)"
   ]
  }
 ],
 "metadata": {
  "interpreter": {
   "hash": "a3d5eb4070905291bd6720710731f1ac3d7159dc04b2a1e7bb0e3fb41c7d0128"
  },
  "kernelspec": {
   "display_name": "Python 3.8.12 ('pulsee')",
   "language": "python",
   "name": "python3"
  },
  "language_info": {
   "codemirror_mode": {
    "name": "ipython",
    "version": 3
   },
   "file_extension": ".py",
   "mimetype": "text/x-python",
   "name": "python",
   "nbconvert_exporter": "python",
   "pygments_lexer": "ipython3",
   "version": "3.8.12"
  },
  "orig_nbformat": 4
 },
 "nbformat": 4,
 "nbformat_minor": 2
}
