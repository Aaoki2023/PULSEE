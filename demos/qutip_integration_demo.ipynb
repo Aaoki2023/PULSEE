{
 "cells": [
  {
   "cell_type": "code",
   "execution_count": 1,
   "metadata": {},
   "outputs": [],
   "source": [
    "import numpy as np \n",
    "import pandas as pd \n",
    "from qutip import tensor, Qobj\n",
    "from pulsee import simulation as sim \n",
    "import matplotlib.pyplot as plt\n"
   ]
  },
  {
   "cell_type": "code",
   "execution_count": 2,
   "metadata": {},
   "outputs": [],
   "source": [
    "\n",
    "quantum_numbers = [1/2]\n",
    "gamma_2pis = [0.50]\n",
    "b_0 = 10\n",
    "zeem_par = {'field magnitude': b_0, 'theta_z': 0, 'phi_z': 0}\n",
    "b_1 = b_0 / 10\n",
    "freq = gamma_2pis[0] * b_0\n",
    "phase = 0 \n",
    "polar_b = np.pi / 2\n",
    "azimuthal_b = 0 \n",
    "pulse_time = 2 * np.pi / (gamma_2pis[0] * b_1)\n",
    "\n",
    "mode = pd.DataFrame([(freq,        b_1,         phase,   polar_b,   azimuthal_b)],\n",
    "\t\t    columns=['frequency', 'amplitude', 'phase', 'theta_p', 'phi_p'])\n",
    "\n",
    "acq_time = 100 # ms \n",
    "t2 = 10\n",
    "\n",
    "spin_par = [] \n",
    "for qn, gam in zip(quantum_numbers, gamma_2pis):\n",
    "    spin_par.append({'quantum number': qn, 'gamma/2pi': gam})\n",
    "\n",
    "args = {}\n",
    "args['zeem_par'] = zeem_par\n",
    "args['spin_par'] = spin_par\n"
   ]
  },
  {
   "cell_type": "code",
   "execution_count": 3,
   "metadata": {},
   "outputs": [
    {
     "data": {
      "text/plain": [
       "array([[ 0.+0.j, -0.-0.j],\n",
       "       [-0.+0.j,  1.+0.j]])"
      ]
     },
     "execution_count": 3,
     "metadata": {},
     "output_type": "execute_result"
    }
   ],
   "source": [
    "spin, h_unperturbed, _ = sim.nuclear_system_setup(**args)\n",
    "initial_dm = Qobj([[1, 0], [0, 0]]) # ensemble initially in spin up \n",
    "evolved_dm = sim.evolve(spin, h_unperturbed, initial_dm, mode=mode, pulse_time=pulse_time)\n",
    "np.round(evolved_dm.full(), decimals=1)\n"
   ]
  },
  {
   "cell_type": "markdown",
   "metadata": {},
   "source": []
  },
  {
   "cell_type": "code",
   "execution_count": 4,
   "metadata": {},
   "outputs": [],
   "source": [
    "t, fid = sim.FID_signal(spin, h_unperturbed, evolved_dm, acquisition_time=acq_time, T2=t2)"
   ]
  },
  {
   "cell_type": "code",
   "execution_count": 5,
   "metadata": {},
   "outputs": [],
   "source": [
    "f, ft = sim.fourier_transform_signal(fid, t)"
   ]
  },
  {
   "cell_type": "code",
   "execution_count": 8,
   "metadata": {},
   "outputs": [
    {
     "data": {
      "text/plain": [
       "(-10.0, 10.0)"
      ]
     },
     "execution_count": 8,
     "metadata": {},
     "output_type": "execute_result"
    },
    {
     "data": {
      "image/png": "[encoded data removed]",
      "text/plain": [
       "<Figure size 432x288 with 1 Axes>"
      ]
     },
     "metadata": {
      "needs_background": "light"
     },
     "output_type": "display_data"
    }
   ],
   "source": [
    "fig, ax = plt.subplots() \n",
    "ax.plot(f, ft)\n",
    "ax.set_xlim(-10, 10)"
   ]
  }
 ],
 "metadata": {
  "interpreter": {
   "hash": "a3d5eb4070905291bd6720710731f1ac3d7159dc04b2a1e7bb0e3fb41c7d0128"
  },
  "kernelspec": {
   "display_name": "Python 3.8.12 ('pulsee')",
   "language": "python",
   "name": "python3"
  },
  "language_info": {
   "codemirror_mode": {
    "name": "ipython",
    "version": 3
   },
   "file_extension": ".py",
   "mimetype": "text/x-python",
   "name": "python",
   "nbconvert_exporter": "python",
   "pygments_lexer": "ipython3",
   "version": "3.8.12"
  },
  "orig_nbformat": 4
 },
 "nbformat": 4,
 "nbformat_minor": 2
}
