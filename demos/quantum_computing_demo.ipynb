{
 "cells": [
  {
   "cell_type": "markdown",
   "metadata": {},
   "source": [
    "# PULSEE Quantum Computing Demo\n",
    "### Lucas Brito \n",
    "This is a demo of the quantum computing module of PULSEE. If the `pulsee` \n",
    "package has been installed in this environment, we can import the quantum\n",
    "computing module with "
   ]
  },
  {
   "cell_type": "code",
   "execution_count": 1,
   "metadata": {},
   "outputs": [],
   "source": [
    "from pulsee.quantum_computing import * \n",
    "from pulsee.simulation import plot_real_part_density_matrix\n",
    "import qutip as qt"
   ]
  },
  {
   "cell_type": "markdown",
   "metadata": {},
   "source": [
    "We can create a `QubitSpace` object; this is an implementation of the \n",
    "two-dimensional Hilbert space which contains qubits. "
   ]
  },
  {
   "cell_type": "code",
   "execution_count": 2,
   "metadata": {},
   "outputs": [],
   "source": [
    "qs = QubitSpace()"
   ]
  },
  {
   "cell_type": "markdown",
   "metadata": {},
   "source": [
    "From this `QubitSpace` we can generate a basis ket out of the bits which it \n",
    "represents. For example, if we want the ket $|0 \\rangle$:"
   ]
  },
  {
   "cell_type": "code",
   "execution_count": 3,
   "metadata": {},
   "outputs": [],
   "source": [
    "q = qs.basis_ket_from_indices([0])"
   ]
  },
  {
   "cell_type": "markdown",
   "metadata": {},
   "source": [
    "This object is of the type `QubitState`:"
   ]
  },
  {
   "cell_type": "code",
   "execution_count": 4,
   "metadata": {},
   "outputs": [
    {
     "data": {
      "text/plain": [
       "pulsee.quantum_computing.QubitState"
      ]
     },
     "execution_count": 4,
     "metadata": {},
     "output_type": "execute_result"
    }
   ],
   "source": [
    "type(q)"
   ]
  },
  {
   "cell_type": "markdown",
   "metadata": {},
   "source": [
    "The `QubitState` class implements a `density_matrix` property which can be \n",
    "used to study that state's density matrix. "
   ]
  },
  {
   "cell_type": "code",
   "execution_count": 5,
   "metadata": {},
   "outputs": [
    {
     "data": {
      "text/latex": [
       "Quantum object: dims = [[2], [2]], shape = (2, 2), type = oper, isherm = True\\begin{equation*}\\left(\\begin{array}{*{11}c}1.0 & 0.0\\\\0.0 & 0.0\\\\\\end{array}\\right)\\end{equation*}"
      ],
      "text/plain": [
       "Quantum object: dims = [[2], [2]], shape = (2, 2), type = oper, isherm = True\n",
       "Qobj data =\n",
       "[[1. 0.]\n",
       " [0. 0.]]"
      ]
     },
     "execution_count": 5,
     "metadata": {},
     "output_type": "execute_result"
    }
   ],
   "source": [
    "q.density_matrix\n",
    "# or \t\n",
    "q.get_density_matrix()"
   ]
  },
  {
   "cell_type": "markdown",
   "metadata": {},
   "source": [
    "Let us study the effect of applying particular gates to this qubit. As a sanity \n",
    "check, we can apply the Pauli-X gate (`Quantum_Computing.pauli_x`) to see that, \n",
    "in this simulation, it indeed functions as quantum analogue of the classical NOT\n",
    "gate (i.e., it transforms $|0\\rangle \\doteq [1 \\; 0 ]$ to $|1\\rangle \\doteq [ 0 \\; 1]$): "
   ]
  },
  {
   "cell_type": "code",
   "execution_count": 6,
   "metadata": {},
   "outputs": [
    {
     "data": {
      "text/plain": [
       "array([0.+0.j, 1.+0.j])"
      ]
     },
     "execution_count": 6,
     "metadata": {},
     "output_type": "execute_result"
    }
   ],
   "source": [
    "pauli_x(q).matrix"
   ]
  },
  {
   "cell_type": "markdown",
   "metadata": {},
   "source": [
    "Let's study the effect that certain gates have on the density matrix of a state. \n",
    "The Hadamard gate creates a superposition out of a basis qubit; we thus expect \n",
    "the density matrix to have off-diagonal elements:"
   ]
  },
  {
   "cell_type": "code",
   "execution_count": 7,
   "metadata": {},
   "outputs": [
    {
     "data": {
      "text/plain": [
       "array([[0.5+0.j, 0.5+0.j],\n",
       "       [0.5+0.j, 0.5+0.j]])"
      ]
     },
     "execution_count": 7,
     "metadata": {},
     "output_type": "execute_result"
    }
   ],
   "source": [
    "hadamard(q).density_matrix.full()\n"
   ]
  },
  {
   "cell_type": "markdown",
   "metadata": {},
   "source": [
    "Indeed we obtain the matrix \n",
    "$$\n",
    "\\begin{bmatrix}\n",
    "1/2 & 1/2\\\\ 1/2 & 1/2\n",
    "\\end{bmatrix}\n",
    "$$\n",
    "as is to be expected from the ket $(1/\\sqrt{2})(|0\\rangle + |1 \\rangle)$. We see \n",
    "that if our observable of choice is spin, the Hadamard gate has the effect of \n",
    "rotating the Bloch sphere vector by $\\pi/2$ about the $y$-axis.\n",
    "\n",
    "Now create a composite qubit space (the tensor product of two qubit spaces, used \n",
    "treat, for example, the total spin of two particles) in order to study some more\n",
    "complicated gates. "
   ]
  },
  {
   "cell_type": "code",
   "execution_count": 8,
   "metadata": {},
   "outputs": [],
   "source": [
    "cqs = CompositeQubitSpace(2) # choose n = 2 for the composition of two spaces\n",
    "\t\t\t\t\t\t\t # (i.e., two particles)."
   ]
  },
  {
   "cell_type": "markdown",
   "metadata": {},
   "source": [
    "We can create the state ket $|10\\rangle$: one spin-up particle and one spin-down \n",
    "particle. "
   ]
  },
  {
   "cell_type": "code",
   "execution_count": 9,
   "metadata": {},
   "outputs": [
    {
     "data": {
      "text/plain": [
       "array([0., 0., 1., 0.])"
      ]
     },
     "execution_count": 9,
     "metadata": {},
     "output_type": "execute_result"
    }
   ],
   "source": [
    "q = cqs.basis_ket_from_indices([1, 0])\n",
    "q.matrix"
   ]
  },
  {
   "cell_type": "markdown",
   "metadata": {},
   "source": [
    "A commonly used binary gate is the controlled-NOT (CNOT) gate:\n",
    "$$\n",
    "\\text{CNOT}\n",
    "=\n",
    "\\begin{bmatrix}\n",
    "1 & 0 & 0 & 0 \\\\\n",
    "0 & 1 & 0 & 0 \\\\\n",
    "0 & 0 & 0 & 1 \\\\\n",
    "0 & 0 & 1 & 0 \n",
    "\\end{bmatrix}\n",
    "$$\n",
    "which is known to entangle a \"target\" qubit and a \"controller\" qubit; see\n",
    "Barnett (2009) pg. 247.  The action of the CNOT gate on the target qubit depends\n",
    "on the state of the controller qubit: If the control is $|0\\rangle$ the target\n",
    "is unchanged; if the control is $|1\\rangle$, the CNOT gate acts on the target as\n",
    "if it is a NOT (Pauli-X) gate. Let us see this in action. Construct the states"
   ]
  },
  {
   "cell_type": "code",
   "execution_count": 10,
   "metadata": {},
   "outputs": [],
   "source": [
    "\n",
    "control = qs.basis_ket_from_indices([0])\n",
    "target = qs.basis_ket_from_indices([0])"
   ]
  },
  {
   "cell_type": "markdown",
   "metadata": {},
   "source": [
    "and take the tensor product to create a composite state:"
   ]
  },
  {
   "cell_type": "code",
   "execution_count": 11,
   "metadata": {},
   "outputs": [
    {
     "data": {
      "text/plain": [
       "array([[1.+0.j],\n",
       "       [0.+0.j],\n",
       "       [0.+0.j],\n",
       "       [0.+0.j]])"
      ]
     },
     "execution_count": 11,
     "metadata": {},
     "output_type": "execute_result"
    }
   ],
   "source": [
    "product_qubit = qt.tensor(control, target)\n",
    "# or \n",
    "product_qubit = control * target # pulsee overrides multiplication operation for \n",
    "\t\t\t\t\t\t\t\t # QubitState objects.\n",
    "\n",
    "product_qubit.matrix"
   ]
  },
  {
   "cell_type": "markdown",
   "metadata": {},
   "source": [
    "we see that applying the CNOT gate has no effect because the control is\n",
    "$|0\\rangle$: "
   ]
  },
  {
   "cell_type": "code",
   "execution_count": 12,
   "metadata": {},
   "outputs": [
    {
     "data": {
      "text/plain": [
       "array([[1.+0.j],\n",
       "       [0.+0.j],\n",
       "       [0.+0.j],\n",
       "       [0.+0.j]])"
      ]
     },
     "execution_count": 12,
     "metadata": {},
     "output_type": "execute_result"
    }
   ],
   "source": [
    "cnot(product_qubit).full()"
   ]
  },
  {
   "cell_type": "markdown",
   "metadata": {},
   "source": [
    "However, if we instead use the state $|10\\rangle$, we expect to obtain\n",
    "$|11\\rangle$:"
   ]
  },
  {
   "cell_type": "code",
   "execution_count": 13,
   "metadata": {},
   "outputs": [
    {
     "data": {
      "text/plain": [
       "array([[0.+0.j],\n",
       "       [0.+0.j],\n",
       "       [0.+0.j],\n",
       "       [1.+0.j]])"
      ]
     },
     "execution_count": 13,
     "metadata": {},
     "output_type": "execute_result"
    }
   ],
   "source": [
    "product_qubit = qs.basis_ket_from_indices([1]) * qs.basis_ket_from_indices([0])\n",
    "cnot(product_qubit).matrix"
   ]
  },
  {
   "cell_type": "markdown",
   "metadata": {},
   "source": [
    "It is not difficult to see how the CNOT gate creates entangled states. Loosely \n",
    "speaking, whether the target qubit was \"flipped\" depends on the state of the \n",
    "controller qubit. Thus providing a superposed controller qubit and\n",
    "subsequently collapsing said qubit leads to a collapse of the target \n",
    "qubit; the value of this collapsed target qubit depends on observed value of the \n",
    "controller qubit.\n",
    "\n",
    "Then if we construct the states $(1/\\sqrt{2})(|0\\rangle + |0 \\rangle)$ and \n",
    "$|0\\rangle $ and take their product:"
   ]
  },
  {
   "cell_type": "code",
   "execution_count": 14,
   "metadata": {},
   "outputs": [],
   "source": [
    "control = qs.make_state(coeffs=[1 / np.sqrt(2), 1 / np.sqrt(2)])\n",
    "target = qs.basis_ket_from_indices([0])\n",
    "\n",
    "product_qubit = control * target "
   ]
  },
  {
   "cell_type": "markdown",
   "metadata": {},
   "source": [
    "then apply the CNOT gate and inspect the resulting density matrix "
   ]
  },
  {
   "cell_type": "code",
   "execution_count": 15,
   "metadata": {},
   "outputs": [
    {
     "data": {
      "image/png": "[encoded data removed]",
      "text/plain": [
       "<Figure size 432x288 with 1 Axes>"
      ]
     },
     "metadata": {
      "needs_background": "light"
     },
     "output_type": "display_data"
    },
    {
     "ename": "FileNotFoundError",
     "evalue": "[Errno 2] No such file or directory: '/home/lzawbrito/PythonProjects/PULSEE/notes/pulsee-paper/ForReSubmissionIlija/Figures/CorrStateDensityMatrix.png'",
     "output_type": "error",
     "traceback": [
      "\u001b[0;31m---------------------------------------------------------------------------\u001b[0m",
      "\u001b[0;31mFileNotFoundError\u001b[0m                         Traceback (most recent call last)",
      "\u001b[1;32m/Users/lzawbrito/projects/PULSEE/demos/quantum_computing_demo.ipynb Cell 30\u001b[0m in \u001b[0;36m<cell line: 3>\u001b[0;34m()\u001b[0m\n\u001b[1;32m      <a href='vscode-notebook-cell:/Users/lzawbrito/projects/PULSEE/demos/quantum_computing_demo.ipynb#X41sZmlsZQ%3D%3D?line=0'>1</a>\u001b[0m bell_state \u001b[39m=\u001b[39m cnot(product_qubit)\n\u001b[1;32m      <a href='vscode-notebook-cell:/Users/lzawbrito/projects/PULSEE/demos/quantum_computing_demo.ipynb#X41sZmlsZQ%3D%3D?line=1'>2</a>\u001b[0m fig \u001b[39m=\u001b[39m plot_real_part_density_matrix(bell_state\u001b[39m.\u001b[39mdensity_matrix, many_spin_indexing\u001b[39m=\u001b[39m[\u001b[39m2\u001b[39m, \u001b[39m2\u001b[39m])\n\u001b[0;32m----> <a href='vscode-notebook-cell:/Users/lzawbrito/projects/PULSEE/demos/quantum_computing_demo.ipynb#X41sZmlsZQ%3D%3D?line=2'>3</a>\u001b[0m fig\u001b[39m.\u001b[39;49msavefig(\u001b[39m'\u001b[39;49m\u001b[39m/home/lzawbrito/PythonProjects/PULSEE/notes/pulsee-paper/ForReSubmissionIlija/Figures/CorrStateDensityMatrix\u001b[39;49m\u001b[39m'\u001b[39;49m, dpi\u001b[39m=\u001b[39;49m\u001b[39m150\u001b[39;49m)\n",
      "File \u001b[0;32m~/opt/miniconda3/envs/pulsee/lib/python3.9/site-packages/matplotlib/figure.py:2180\u001b[0m, in \u001b[0;36mFigure.savefig\u001b[0;34m(self, fname, transparent, **kwargs)\u001b[0m\n\u001b[1;32m   2177\u001b[0m     original_frameon \u001b[39m=\u001b[39m \u001b[39mself\u001b[39m\u001b[39m.\u001b[39mpatch\u001b[39m.\u001b[39mget_visible()\n\u001b[1;32m   2178\u001b[0m     \u001b[39mself\u001b[39m\u001b[39m.\u001b[39mpatch\u001b[39m.\u001b[39mset_visible(frameon)\n\u001b[0;32m-> 2180\u001b[0m \u001b[39mself\u001b[39;49m\u001b[39m.\u001b[39;49mcanvas\u001b[39m.\u001b[39;49mprint_figure(fname, \u001b[39m*\u001b[39;49m\u001b[39m*\u001b[39;49mkwargs)\n\u001b[1;32m   2182\u001b[0m \u001b[39mif\u001b[39;00m frameon:\n\u001b[1;32m   2183\u001b[0m     \u001b[39mself\u001b[39m\u001b[39m.\u001b[39mpatch\u001b[39m.\u001b[39mset_visible(original_frameon)\n",
      "File \u001b[0;32m~/opt/miniconda3/envs/pulsee/lib/python3.9/site-packages/matplotlib/backend_bases.py:2075\u001b[0m, in \u001b[0;36mFigureCanvasBase.print_figure\u001b[0;34m(self, filename, dpi, facecolor, edgecolor, orientation, format, bbox_inches, **kwargs)\u001b[0m\n\u001b[1;32m   2072\u001b[0m     _bbox_inches_restore \u001b[39m=\u001b[39m \u001b[39mNone\u001b[39;00m\n\u001b[1;32m   2074\u001b[0m \u001b[39mtry\u001b[39;00m:\n\u001b[0;32m-> 2075\u001b[0m     result \u001b[39m=\u001b[39m print_method(\n\u001b[1;32m   2076\u001b[0m         filename,\n\u001b[1;32m   2077\u001b[0m         dpi\u001b[39m=\u001b[39;49mdpi,\n\u001b[1;32m   2078\u001b[0m         facecolor\u001b[39m=\u001b[39;49mfacecolor,\n\u001b[1;32m   2079\u001b[0m         edgecolor\u001b[39m=\u001b[39;49medgecolor,\n\u001b[1;32m   2080\u001b[0m         orientation\u001b[39m=\u001b[39;49morientation,\n\u001b[1;32m   2081\u001b[0m         bbox_inches_restore\u001b[39m=\u001b[39;49m_bbox_inches_restore,\n\u001b[1;32m   2082\u001b[0m         \u001b[39m*\u001b[39;49m\u001b[39m*\u001b[39;49mkwargs)\n\u001b[1;32m   2083\u001b[0m \u001b[39mfinally\u001b[39;00m:\n\u001b[1;32m   2084\u001b[0m     \u001b[39mif\u001b[39;00m bbox_inches \u001b[39mand\u001b[39;00m restore_bbox:\n",
      "File \u001b[0;32m~/opt/miniconda3/envs/pulsee/lib/python3.9/site-packages/matplotlib/backends/backend_agg.py:529\u001b[0m, in \u001b[0;36mFigureCanvasAgg.print_png\u001b[0;34m(self, filename_or_obj, metadata, pil_kwargs, *args, **kwargs)\u001b[0m\n\u001b[1;32m    527\u001b[0m FigureCanvasAgg\u001b[39m.\u001b[39mdraw(\u001b[39mself\u001b[39m)\n\u001b[1;32m    528\u001b[0m renderer \u001b[39m=\u001b[39m \u001b[39mself\u001b[39m\u001b[39m.\u001b[39mget_renderer()\n\u001b[0;32m--> 529\u001b[0m \u001b[39mwith\u001b[39;00m cbook\u001b[39m.\u001b[39m_setattr_cm(renderer, dpi\u001b[39m=\u001b[39m\u001b[39mself\u001b[39m\u001b[39m.\u001b[39mfigure\u001b[39m.\u001b[39mdpi), \\\n\u001b[1;32m    530\u001b[0m         cbook\u001b[39m.\u001b[39mopen_file_cm(filename_or_obj, \u001b[39m\"\u001b[39m\u001b[39mwb\u001b[39m\u001b[39m\"\u001b[39m) \u001b[39mas\u001b[39;00m fh:\n\u001b[1;32m    531\u001b[0m     _png\u001b[39m.\u001b[39mwrite_png(renderer\u001b[39m.\u001b[39m_renderer, fh,\n\u001b[1;32m    532\u001b[0m                    \u001b[39mself\u001b[39m\u001b[39m.\u001b[39mfigure\u001b[39m.\u001b[39mdpi, metadata\u001b[39m=\u001b[39mmetadata)\n",
      "File \u001b[0;32m~/opt/miniconda3/envs/pulsee/lib/python3.9/contextlib.py:119\u001b[0m, in \u001b[0;36m_GeneratorContextManager.__enter__\u001b[0;34m(self)\u001b[0m\n\u001b[1;32m    117\u001b[0m \u001b[39mdel\u001b[39;00m \u001b[39mself\u001b[39m\u001b[39m.\u001b[39margs, \u001b[39mself\u001b[39m\u001b[39m.\u001b[39mkwds, \u001b[39mself\u001b[39m\u001b[39m.\u001b[39mfunc\n\u001b[1;32m    118\u001b[0m \u001b[39mtry\u001b[39;00m:\n\u001b[0;32m--> 119\u001b[0m     \u001b[39mreturn\u001b[39;00m \u001b[39mnext\u001b[39;49m(\u001b[39mself\u001b[39;49m\u001b[39m.\u001b[39;49mgen)\n\u001b[1;32m    120\u001b[0m \u001b[39mexcept\u001b[39;00m \u001b[39mStopIteration\u001b[39;00m:\n\u001b[1;32m    121\u001b[0m     \u001b[39mraise\u001b[39;00m \u001b[39mRuntimeError\u001b[39;00m(\u001b[39m\"\u001b[39m\u001b[39mgenerator didn\u001b[39m\u001b[39m'\u001b[39m\u001b[39mt yield\u001b[39m\u001b[39m\"\u001b[39m) \u001b[39mfrom\u001b[39;00m \u001b[39mNone\u001b[39m\n",
      "File \u001b[0;32m~/opt/miniconda3/envs/pulsee/lib/python3.9/site-packages/matplotlib/cbook/__init__.py:447\u001b[0m, in \u001b[0;36mopen_file_cm\u001b[0;34m(path_or_file, mode, encoding)\u001b[0m\n\u001b[1;32m    444\u001b[0m \u001b[39m@contextlib\u001b[39m\u001b[39m.\u001b[39mcontextmanager\n\u001b[1;32m    445\u001b[0m \u001b[39mdef\u001b[39;00m \u001b[39mopen_file_cm\u001b[39m(path_or_file, mode\u001b[39m=\u001b[39m\u001b[39m\"\u001b[39m\u001b[39mr\u001b[39m\u001b[39m\"\u001b[39m, encoding\u001b[39m=\u001b[39m\u001b[39mNone\u001b[39;00m):\n\u001b[1;32m    446\u001b[0m     \u001b[39mr\u001b[39m\u001b[39m\"\"\"Pass through file objects and context-manage `.PathLike`\\s.\"\"\"\u001b[39;00m\n\u001b[0;32m--> 447\u001b[0m     fh, opened \u001b[39m=\u001b[39m to_filehandle(path_or_file, mode, \u001b[39mTrue\u001b[39;49;00m, encoding)\n\u001b[1;32m    448\u001b[0m     \u001b[39mif\u001b[39;00m opened:\n\u001b[1;32m    449\u001b[0m         \u001b[39mwith\u001b[39;00m fh:\n",
      "File \u001b[0;32m~/opt/miniconda3/envs/pulsee/lib/python3.9/site-packages/matplotlib/cbook/__init__.py:432\u001b[0m, in \u001b[0;36mto_filehandle\u001b[0;34m(fname, flag, return_opened, encoding)\u001b[0m\n\u001b[1;32m    430\u001b[0m         fh \u001b[39m=\u001b[39m bz2\u001b[39m.\u001b[39mBZ2File(fname, flag)\n\u001b[1;32m    431\u001b[0m     \u001b[39melse\u001b[39;00m:\n\u001b[0;32m--> 432\u001b[0m         fh \u001b[39m=\u001b[39m \u001b[39mopen\u001b[39;49m(fname, flag, encoding\u001b[39m=\u001b[39;49mencoding)\n\u001b[1;32m    433\u001b[0m     opened \u001b[39m=\u001b[39m \u001b[39mTrue\u001b[39;00m\n\u001b[1;32m    434\u001b[0m \u001b[39melif\u001b[39;00m \u001b[39mhasattr\u001b[39m(fname, \u001b[39m'\u001b[39m\u001b[39mseek\u001b[39m\u001b[39m'\u001b[39m):\n",
      "\u001b[0;31mFileNotFoundError\u001b[0m: [Errno 2] No such file or directory: '/home/lzawbrito/PythonProjects/PULSEE/notes/pulsee-paper/ForReSubmissionIlija/Figures/CorrStateDensityMatrix.png'"
     ]
    }
   ],
   "source": [
    "bell_state = cnot(product_qubit)\n",
    "fig = plot_real_part_density_matrix(bell_state.density_matrix, many_spin_indexing=[2, 2])\n",
    "fig.savefig('/home/lzawbrito/PythonProjects/PULSEE/notes/pulsee-paper/ForReSubmissionIlija/Figures/CorrStateDensityMatrix', dpi=150)"
   ]
  },
  {
   "cell_type": "markdown",
   "metadata": {},
   "source": [
    "as well as the reduced density matrix's trace:"
   ]
  },
  {
   "cell_type": "code",
   "execution_count": 16,
   "metadata": {},
   "outputs": [
    {
     "data": {
      "text/plain": [
       "(0.5000000000000002+0j)"
      ]
     },
     "execution_count": 16,
     "metadata": {},
     "output_type": "execute_result"
    }
   ],
   "source": [
    "reduced_density_matrix = bell_state.get_reduced_density_matrix(0)\n",
    "# take real component to interpret more easily\n",
    "import numpy as np \n",
    "\n",
    "np.trace(np.matmul(reduced_density_matrix.full(), reduced_density_matrix.full()))"
   ]
  },
  {
   "cell_type": "markdown",
   "metadata": {},
   "source": [
    "The diagonal elements of this matrix are as expected—the trace of the reduced \n",
    "density matrix squared is less than one and this is not a pure density\n",
    "matrix, indicating that this is an entangled state; see Baaquie (2013) pages\n",
    "93-113."
   ]
  },
  {
   "cell_type": "markdown",
   "metadata": {},
   "source": [
    "As a final demonstration, we will verify that it is possible to obtain a so-called Bell state using a Hadamard gate and a CNOT gate. First construct two state vectors:"
   ]
  },
  {
   "cell_type": "code",
   "execution_count": 17,
   "metadata": {},
   "outputs": [],
   "source": [
    "q1 = qs.basis_ket_from_indices([0])\n",
    "q2 = qs.basis_ket_from_indices([0])"
   ]
  },
  {
   "cell_type": "markdown",
   "metadata": {},
   "source": [
    "Now apply the Hadamard gate to `q1`, take the states' tensor product product, and run them through a CNOT gate:"
   ]
  },
  {
   "cell_type": "code",
   "execution_count": 18,
   "metadata": {},
   "outputs": [],
   "source": [
    "q1 = hadamard(q1)\n",
    "\n",
    "q1q2 = q1 * q2 \n",
    "q1q2 = cnot(q1q2)"
   ]
  },
  {
   "cell_type": "markdown",
   "metadata": {},
   "source": [
    "We expect this state to be a superposition $1/\\sqrt{2}(|00\\rangle + |11\\rangle)$; as such we look for the coefficients of the projection onto the computational basis: "
   ]
  },
  {
   "cell_type": "code",
   "execution_count": 19,
   "metadata": {},
   "outputs": [
    {
     "data": {
      "text/plain": [
       "[(0.7071067811865475+0j), 0j, 0j, (0.7071067811865475+0j)]"
      ]
     },
     "execution_count": 19,
     "metadata": {},
     "output_type": "execute_result"
    }
   ],
   "source": [
    "[np.vdot(b, q1q2.matrix) for b in q1q2.qubit_space.onb_matrices()]"
   ]
  }
 ],
 "metadata": {
  "kernelspec": {
   "display_name": "Python 3.9.13 ('pulsee')",
   "language": "python",
   "name": "python3"
  },
  "language_info": {
   "codemirror_mode": {
    "name": "ipython",
    "version": 3
   },
   "file_extension": ".py",
   "mimetype": "text/x-python",
   "name": "python",
   "nbconvert_exporter": "python",
   "pygments_lexer": "ipython3",
   "version": "3.9.13"
  },
  "orig_nbformat": 4,
  "vscode": {
   "interpreter": {
    "hash": "565e6eaeafdc1c625e35cccb1ad055e9f752b1af38a6fa1f2bda6606bd3ed34f"
   }
  }
 },
 "nbformat": 4,
 "nbformat_minor": 2
}
