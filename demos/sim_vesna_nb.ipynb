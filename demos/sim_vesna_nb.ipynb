{
 "cells": [
  {
   "cell_type": "markdown",
   "metadata": {},
   "source": [
    "# Imports"
   ]
  },
  {
   "cell_type": "code",
   "execution_count": null,
   "metadata": {},
   "outputs": [],
   "source": [
    "import numpy as np\n",
    "import pandas as pd\n",
    "from pulsee.operators import * \n",
    "from pulsee.simulation import *\n",
    "import qutip as qt\n",
    "import matplotlib.pyplot as plt"
   ]
  },
  {
   "cell_type": "markdown",
   "metadata": {},
   "source": [
    "# Parameters"
   ]
  },
  {
   "cell_type": "code",
   "execution_count": null,
   "metadata": {},
   "outputs": [],
   "source": [
    "qn = 3/2\n",
    "gr = 1\n",
    "b0 = 1\n",
    "e2qQ = 0.2\n",
    "\n",
    "spin_par = {'quantum number' : qn,\n",
    "\t\t\t'gamma/2pi' : gr}\n",
    "\n",
    "zeem_par = {'field magnitude' : b0,\n",
    "\t\t\t'theta_z' : 0,\n",
    "\t\t\t'phi_z' : 0}"
   ]
  },
  {
   "cell_type": "code",
   "execution_count": null,
   "metadata": {},
   "outputs": [],
   "source": [
    "etas = np.linspace(0, 1, 4)"
   ]
  },
  {
   "cell_type": "markdown",
   "metadata": {},
   "source": [
    "# Simulation\n",
    "Define simulation code which we will run with different solvers:"
   ]
  },
  {
   "cell_type": "code",
   "execution_count": null,
   "metadata": {},
   "outputs": [],
   "source": [
    "def simulate(solver):\n",
    "\n",
    "\t# Fourier transforms for each eta\n",
    "\tfts = []\n",
    "\n",
    "\tfor eta in etas:\n",
    "\t\tquad_par = {'coupling constant' : e2qQ,\n",
    "\t\t\t\t\t'asymmetry parameter' : eta,\n",
    "\t\t\t\t\t'alpha_q' : 0.,\n",
    "\t\t\t\t\t'beta_q' : math.pi/2,\n",
    "\t\t\t\t\t'gamma_q' : 0.}\n",
    "\n",
    "\t\tb1 = 1e-2 * b0\n",
    "\n",
    "\t\tmode = pd.DataFrame([(2 * np.pi * gr * b0, 2 * b1, 0., math.pi/2, 0)], \n",
    "\t\t\t\t\t\t\tcolumns=['frequency', 'amplitude', 'phase', 'theta_p', 'phi_p'])\n",
    "\n",
    "\t\tRRF_par = {'nu_RRF': 2 * np.pi * gr * b0,\n",
    "\t\t\t\t\t'theta_RRF': math.pi,\n",
    "\t\t\t\t\t'phi_RRF': 0.}\n",
    "\n",
    "\t\tdm_initial = Qobj([[1, 0, 0, 0], [0, 0, 0, 0], [0, 0, 0, 0], [0, 0, 0, 0]])\n",
    "\t\tspin, h_unperturbed, dm_initial = nuclear_system_setup(spin_par, quad_par=quad_par, \n",
    "\t\t\t\t\t\t\t\t\t\t\tzeem_par=zeem_par, initial_state='canonical')\n",
    "\n",
    "\t\tdm_evolved = evolve(spin, h_unperturbed, dm_initial, solver=solver, \\\n",
    "\t\t\t\t\t\t\tmode=mode, pulse_time=1 / (4 * gr * b1), \\\n",
    "\t\t\t\t\t\t\tpicture='IP', n_points=50, order=2)\n",
    "\n",
    "\t\tt, FID = FID_signal(spin, h_unperturbed, dm_evolved, acquisition_time=50, \\\n",
    "\t\t\t\tT2=10, reference_frequency=gr*b0, n_points=100)\n",
    "\n",
    "\n",
    "\t\tf, ft = fourier_transform_signal(FID, t, padding=10)\n",
    "\t\tfts.append(eta, f, ft)\n",
    "\t"
   ]
  },
  {
   "cell_type": "markdown",
   "metadata": {},
   "source": [
    "Run simulations with Magnus solver and QuTiP's [master equation solver](https://qutip.org/docs/latest/modules/qutip/mesolve.html#mesolve):"
   ]
  },
  {
   "cell_type": "code",
   "execution_count": null,
   "metadata": {},
   "outputs": [],
   "source": [
    "fts_magnus = simulate('magnus')\n",
    "fts_mesolve = simulate('mesolve')"
   ]
  },
  {
   "cell_type": "markdown",
   "metadata": {},
   "source": [
    "Simulate with exact diagonalization approach:"
   ]
  },
  {
   "cell_type": "code",
   "execution_count": null,
   "metadata": {},
   "outputs": [],
   "source": [
    "fts_ed = [] \n",
    "\n",
    "for eta in etas:\n",
    "\tquad_par = {'coupling constant' : e2qQ,\n",
    "\t\t\t\t'asymmetry parameter' : eta,\n",
    "\t\t\t\t'alpha_q' : 0.,\n",
    "\t\t\t\t'beta_q' : math.pi/2,\n",
    "\t\t\t\t'gamma_q' : 0.}\n",
    "\n",
    "\tb1 = 1e-2 * b0\n",
    "\n",
    "\tRRF_par = {'nu_RRF': 2 * np.pi * gr * b0,\n",
    "\t\t\t\t'theta_RRF': math.pi,\n",
    "\t\t\t\t'phi_RRF': 0.}\n",
    "\n",
    "\tdm_initial = Qobj([[1, 0, 0, 0], [0, 0, 0, 0], [0, 0, 0, 0], [0, 0, 0, 0]])\n",
    "\tspin, h_unperturbed, dm_initial = nuclear_system_setup(spin_par, quad_par=quad_par, \n",
    "\t\t\t\t\t\t\t\t\t\tzeem_par=zeem_par, initial_state='canonical')\n",
    "\n",
    "\n",
    "\n",
    "\tt = np.linspace(0, 50, 100) # 50 second acquisition time, 1000 data points\n",
    "\n",
    "\tix, iy, iz = qt.spin_J_set(1 / 2)\n",
    "\trot_dm = apply_rot_pulse(dm_initial, 1 / (4 * gr * b1), ix) # rotate about x axis\n",
    "\tdm_evolved, e_ops = ed_evolve(h_unperturbed, rot_dm, spin, t, e_ops=[], fid=True)\n",
    "\n",
    "\tFID = e_ops[0]\n",
    "\n",
    "\tf, ft = fourier_transform_signal(FID, t, padding=10)\n",
    "\tfts_ed.append(eta, f, ft)\n"
   ]
  },
  {
   "cell_type": "markdown",
   "metadata": {},
   "source": [
    "# Plots\n",
    "Plot magnus solution:"
   ]
  },
  {
   "cell_type": "code",
   "execution_count": null,
   "metadata": {},
   "outputs": [],
   "source": [
    "fig, ax = plt.subplots()\n",
    "for eta, f, ft in fts_magnus:\n",
    "\tplt.plot(f, np.absolute(ft)**2, label=\"\\N{GREEK SMALL LETTER ETA} = \" + str(np.round(eta, 2)))\n",
    "\n",
    "plt.figtext(.65, .8, 'e2qQ = ' + str(np.round(e2qQ, 3)) + ' MHz')\n",
    "plt.legend(loc='upper left')\n",
    "plt.xlabel(\"frequency (MHz)\")    \n",
    "plt.ylabel(\"FT signal (a. u.)\")\n",
    "\n",
    "plt.show()"
   ]
  },
  {
   "cell_type": "markdown",
   "metadata": {},
   "source": [
    "Plot mesolve solution:"
   ]
  },
  {
   "cell_type": "code",
   "execution_count": null,
   "metadata": {},
   "outputs": [],
   "source": [
    "fig, ax = plt.subplots()\n",
    "for eta, f, ft in fts_mesolve:\n",
    "\tplt.plot(f, np.absolute(ft)**2, label=\"\\N{GREEK SMALL LETTER ETA} = \" + str(np.round(eta, 2)))\n",
    "\n",
    "plt.figtext(.65, .8, 'e2qQ = ' + str(np.round(e2qQ, 3)) + ' MHz')\n",
    "plt.legend(loc='upper left')\n",
    "plt.xlabel(\"frequency (MHz)\")    \n",
    "plt.ylabel(\"FT signal (a. u.)\")\n",
    "\n",
    "plt.show()\n"
   ]
  },
  {
   "cell_type": "markdown",
   "metadata": {},
   "source": [
    "Plot exact diagonalization solution:"
   ]
  },
  {
   "cell_type": "code",
   "execution_count": null,
   "metadata": {},
   "outputs": [],
   "source": [
    "fig, ax = plt.subplots()\n",
    "for eta, f, ft in fts_ed:\n",
    "\tplt.plot(f, np.absolute(ft)**2, label=\"\\N{GREEK SMALL LETTER ETA} = \" + str(np.round(eta, 2)))\n",
    "\n",
    "plt.figtext(.65, .8, 'e2qQ = ' + str(np.round(e2qQ, 3)) + ' MHz')\n",
    "plt.legend(loc='upper left')\n",
    "plt.xlabel(\"frequency (MHz)\")    \n",
    "plt.ylabel(\"FT signal (a. u.)\")\n",
    "\n",
    "plt.show()\n"
   ]
  }
 ],
 "metadata": {
  "kernelspec": {
   "display_name": "Python 3.9.13 ('pulsee')",
   "language": "python",
   "name": "python3"
  },
  "language_info": {
   "name": "python",
   "version": "3.9.13"
  },
  "orig_nbformat": 4,
  "vscode": {
   "interpreter": {
    "hash": "565e6eaeafdc1c625e35cccb1ad055e9f752b1af38a6fa1f2bda6606bd3ed34f"
   }
  }
 },
 "nbformat": 4,
 "nbformat_minor": 2
}
