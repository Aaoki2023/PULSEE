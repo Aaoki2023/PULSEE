{
 "cells": [
  {
   "cell_type": "code",
   "execution_count": 2,
   "id": "7c92754d",
   "metadata": {},
   "outputs": [],
   "source": [
    "from qutip import *\n",
    "import numpy as np\n",
    "import matplotlib.pyplot as plt\n",
    "import Squeezing_helper as SqH\n",
    "import scipy.constants as constants \n",
    "\n",
    "from ipywidgets import interact, interactive, fixed, interact_manual\n",
    "import ipywidgets as widgets\n",
    "\n",
    "n = 3/2\n",
    "(Ix, Iy, Iz) = spin_J_set(n)\n",
    "Ix2 = Ix**2\n",
    "Iy2 = Iy**2\n",
    "Iz2 = Iz**2\n",
    "Im = Ix - 1j*Iy\n",
    "Ip = Ix + 1j*Iy\n",
    "I2 = Ix**2+Iy**2\n",
    "\n",
    "\n",
    "import warnings\n",
    "warnings.filterwarnings('ignore')"
   ]
  },
  {
   "cell_type": "code",
   "execution_count": 4,
   "id": "407df43e",
   "metadata": {},
   "outputs": [],
   "source": [
    "def defH1(eta, split):    \n",
    "    Hamil = split/(4*n*(2*n-1))*(3*Iz2 - qeye(4)*n*(n+1))\n",
    "    #omegaQ is (uni)axail anisotropy?\n",
    "    \n",
    "    Hamil += split/(4*n*(2*n-1))*eta*(Ix2 - Iy2)/2\n",
    "    #omegaT transverse anisotropy\n",
    "    #eta = omegaT/omegaQ, let's keep omegaQ constant\n",
    "    return Hamil"
   ]
  },
  {
   "cell_type": "code",
   "execution_count": 5,
   "id": "aa97ab24",
   "metadata": {},
   "outputs": [],
   "source": [
    "def intialThermal(hamiltonian, temperature):\n",
    "    '''\n",
    "    In the high field limit \\rho_eq = Iz. Temperature only important if we care about absolute numbers.\n",
    "    \n",
    "    In the rotating frame, B1 is static. So apply rotation operator exp(-i pi/2 Iy)\n",
    "    '''\n",
    "    \n",
    "    exponent = - ((constants.Planck/constants.Boltzmann) * hamiltonian ) / temperature\n",
    "    numerator = exponent.expm()\n",
    "#     dm_rot = numerator\n",
    "    dm_rot =((-1j*np.pi*Iy/2).expm())*(numerator)*((-1j*np.pi*Iy/2).expm()).dag()\n",
    "    \n",
    "    return dm_rot.unit()"
   ]
  },
  {
   "cell_type": "code",
   "execution_count": 10,
   "id": "9d7fcee8",
   "metadata": {},
   "outputs": [],
   "source": [
    "omegaQ = 1e2*4*np.pi\n",
    "eta = 0\n",
    "\n",
    "H = defH1(eta, omegaQ)+10e3*2*np.pi*Iz\n",
    "T2 = 1e-1\n",
    "\n",
    "rho_0 = intialThermal(H, 5e-5)"
   ]
  },
  {
   "cell_type": "code",
   "execution_count": 11,
   "id": "b2e94195",
   "metadata": {},
   "outputs": [],
   "source": [
    "fr, ft = SqH.calcSPLIT(H, rho_0, None, acquisition_time = 3e-1, T2 = T2, n_points=100000)"
   ]
  },
  {
   "cell_type": "code",
   "execution_count": 9,
   "id": "22fec85b",
   "metadata": {},
   "outputs": [
    {
     "data": {
      "image/png": "[encoded data removed]",
      "text/plain": [
       "<Figure size 432x288 with 1 Axes>"
      ]
     },
     "metadata": {
      "needs_background": "light"
     },
     "output_type": "display_data"
    }
   ],
   "source": [
    "plt.figure()\n",
    "plt.plot(fr*1e-3, ft/np.max(ft), 'b');\n",
    "plt.xlabel(\"Freq (kHz)\")\n",
    "plt.xlim([9.5,10.5]);"
   ]
  },
  {
   "cell_type": "code",
   "execution_count": null,
   "id": "4acb9f8c",
   "metadata": {},
   "outputs": [],
   "source": []
  }
 ],
 "metadata": {
  "kernelspec": {
   "display_name": "Python 3.8.9 64-bit",
   "language": "python",
   "name": "python3"
  },
  "language_info": {
   "codemirror_mode": {
    "name": "ipython",
    "version": 3
   },
   "file_extension": ".py",
   "mimetype": "text/x-python",
   "name": "python",
   "nbconvert_exporter": "python",
   "pygments_lexer": "ipython3",
   "version": "3.10.4"
  },
  "vscode": {
   "interpreter": {
    "hash": "31f2aee4e71d21fbe5cf8b01ff0e069b9275f58929596ceb00d14d90e3e16cd6"
   }
  }
 },
 "nbformat": 4,
 "nbformat_minor": 5
}
