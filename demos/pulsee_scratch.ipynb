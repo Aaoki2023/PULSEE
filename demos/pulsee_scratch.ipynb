{
 "cells": [
  {
   "cell_type": "code",
   "execution_count": 2,
   "metadata": {},
   "outputs": [],
   "source": [
    "from pulsee import simulation as sim\n",
    "from qutip import *"
   ]
  },
  {
   "cell_type": "code",
   "execution_count": 3,
   "metadata": {},
   "outputs": [],
   "source": [
    "dm = Qobj([[1, 0], [0, 0]])\n",
    "spin_params = {\n",
    "\t'quantum number': 0.5,\n",
    "\t'gamma/2pi': 1\n",
    "}\n",
    "\n",
    "spin, h, dm = sim.nuclear_system_setup(spin_par=spin_params, quad_par=None, \n",
    "\t\t\t\t\t\t zeem_par=None, j_matrix=None, cs_param=None,\n",
    "\t\t\t\t\t\t D1_param=None, D2_param=None, hf_param=None,\n",
    "\t\t\t\t\t\t h_tensor_inter=None, j_sec_param=None, initial_state=dm)\n"
   ]
  },
  {
   "cell_type": "code",
   "execution_count": 7,
   "metadata": {},
   "outputs": [],
   "source": [
    "q = sim.evolve(spin, h, dm, 'magnus', pulse_time=1, order=3)"
   ]
  },
  {
   "cell_type": "code",
   "execution_count": 8,
   "metadata": {},
   "outputs": [
    {
     "data": {
      "text/latex": [
       "Quantum object: dims = [[2], [2]], shape = (2, 2), type = oper, isherm = True\\begin{equation*}\\left(\\begin{array}{*{11}c}1.0 & 0.0\\\\0.0 & 0.0\\\\\\end{array}\\right)\\end{equation*}"
      ],
      "text/plain": [
       "Quantum object: dims = [[2], [2]], shape = (2, 2), type = oper, isherm = True\n",
       "Qobj data =\n",
       "[[1. 0.]\n",
       " [0. 0.]]"
      ]
     },
     "execution_count": 8,
     "metadata": {},
     "output_type": "execute_result"
    }
   ],
   "source": [
    "sim.evolve(spin, h, dm, solver=sim.magnus, pulse_time=1)"
   ]
  },
  {
   "cell_type": "code",
   "execution_count": 4,
   "metadata": {},
   "outputs": [
    {
     "data": {
      "text/latex": [
       "Quantum object: dims = [[2], [2]], shape = (2, 2), type = oper, isherm = True\\begin{equation*}\\left(\\begin{array}{*{11}c}1.0 & 0.0\\\\0.0 & 0.0\\\\\\end{array}\\right)\\end{equation*}"
      ],
      "text/plain": [
       "Quantum object: dims = [[2], [2]], shape = (2, 2), type = oper, isherm = True\n",
       "Qobj data =\n",
       "[[1. 0.]\n",
       " [0. 0.]]"
      ]
     },
     "execution_count": 4,
     "metadata": {},
     "output_type": "execute_result"
    }
   ],
   "source": [
    "sim.evolve(spin, h, dm, 'mesolve', pulse_time=1)\n",
    "sim.evolve(spin, h, dm, mesolve, pulse_time=1)"
   ]
  },
  {
   "cell_type": "code",
   "execution_count": 5,
   "metadata": {},
   "outputs": [
    {
     "ename": "ValueError",
     "evalue": "Invalid solver: abc",
     "output_type": "error",
     "traceback": [
      "\u001b[0;31m---------------------------------------------------------------------------\u001b[0m",
      "\u001b[0;31mValueError\u001b[0m                                Traceback (most recent call last)",
      "\u001b[1;32m/Users/lzawbrito/projects/PULSEE/demos/pulsee_scratch.ipynb Cell 6'\u001b[0m in \u001b[0;36m<cell line: 1>\u001b[0;34m()\u001b[0m\n\u001b[0;32m----> <a href='vscode-notebook-cell:/Users/lzawbrito/projects/PULSEE/demos/pulsee_scratch.ipynb#ch0000005?line=0'>1</a>\u001b[0m sim\u001b[39m.\u001b[39;49mevolve(spin, h, dm, \u001b[39m'\u001b[39;49m\u001b[39mabc\u001b[39;49m\u001b[39m'\u001b[39;49m, pulse_time\u001b[39m=\u001b[39;49m\u001b[39m1\u001b[39;49m)\n",
      "File \u001b[0;32m~/projects/PULSEE/src/pulsee/simulation.py:630\u001b[0m, in \u001b[0;36mevolve\u001b[0;34m(spin, h_unperturbed, dm_initial, solver, mode, pulse_time, picture, RRF_par, n_points, order)\u001b[0m\n\u001b[1;32m    <a href='file:///Users/lzawbrito/projects/PULSEE/src/pulsee/simulation.py?line=626'>627</a>\u001b[0m     \u001b[39mreturn\u001b[39;00m final_state \u001b[39m# return last time step of density matrix evolution.\u001b[39;00m\n\u001b[1;32m    <a href='file:///Users/lzawbrito/projects/PULSEE/src/pulsee/simulation.py?line=628'>629</a>\u001b[0m \u001b[39melif\u001b[39;00m \u001b[39mtype\u001b[39m(solver) \u001b[39m==\u001b[39m \u001b[39mstr\u001b[39m:\n\u001b[0;32m--> <a href='file:///Users/lzawbrito/projects/PULSEE/src/pulsee/simulation.py?line=629'>630</a>\u001b[0m     \u001b[39mraise\u001b[39;00m \u001b[39mValueError\u001b[39;00m(\u001b[39m'\u001b[39m\u001b[39mInvalid solver: \u001b[39m\u001b[39m'\u001b[39m \u001b[39m+\u001b[39m solver)\n\u001b[1;32m    <a href='file:///Users/lzawbrito/projects/PULSEE/src/pulsee/simulation.py?line=631'>632</a>\u001b[0m \u001b[39melse\u001b[39;00m: \n\u001b[1;32m    <a href='file:///Users/lzawbrito/projects/PULSEE/src/pulsee/simulation.py?line=632'>633</a>\u001b[0m     result \u001b[39m=\u001b[39m solver(h, Qobj(dm_initial), times, options\u001b[39m=\u001b[39mopts)\n",
      "\u001b[0;31mValueError\u001b[0m: Invalid solver: abc"
     ]
    }
   ],
   "source": [
    "sim.evolve(spin, h, dm, 'abc', pulse_time=1)"
   ]
  }
 ],
 "metadata": {
  "interpreter": {
   "hash": "a3d5eb4070905291bd6720710731f1ac3d7159dc04b2a1e7bb0e3fb41c7d0128"
  },
  "kernelspec": {
   "display_name": "Python 3.9.0 ('pulsee')",
   "language": "python",
   "name": "python3"
  },
  "language_info": {
   "codemirror_mode": {
    "name": "ipython",
    "version": 3
   },
   "file_extension": ".py",
   "mimetype": "text/x-python",
   "name": "python",
   "nbconvert_exporter": "python",
   "pygments_lexer": "ipython3",
   "version": "3.9.0"
  },
  "orig_nbformat": 4
 },
 "nbformat": 4,
 "nbformat_minor": 2
}
